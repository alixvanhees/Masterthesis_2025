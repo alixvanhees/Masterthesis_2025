{
 "cells": [
  {
   "cell_type": "code",
   "execution_count": 1,
   "id": "d62b7ce6",
   "metadata": {
    "scrolled": true
   },
   "outputs": [],
   "source": [
    "import pandas as pd\n",
    "import numpy as np\n",
    "from sklearn import preprocessing\n",
    "from sklearn.model_selection import train_test_split\n",
    "import torch\n",
    "import torch.nn.functional as F\n",
    "import torch.nn as nn\n",
    "from torch.utils.data import Dataset\n",
    "from torch.utils.data import DataLoader\n",
    "import networkx as nx\n",
    "import igraph as ig\n",
    "from sklearn.compose import ColumnTransformer\n",
    "from sklearn.preprocessing import MinMaxScaler, LabelEncoder\n",
    "from sklearn.metrics import precision_score, recall_score, f1_score, roc_auc_score, roc_curve, confusion_matrix,average_precision_score,accuracy_score  \n",
    "import matplotlib.pyplot as plt\n",
    "import seaborn as sns\n",
    "import optuna"
   ]
  },
  {
   "cell_type": "code",
   "execution_count": 2,
   "id": "d80b7949",
   "metadata": {},
   "outputs": [
    {
     "name": "stdout",
     "output_type": "stream",
     "text": [
      "          Timestamp  From Bank    Account  To Bank  Account.1  \\\n",
      "0  2022/09/09 12:02     348286  811C389E0   148016  811C53230   \n",
      "1  2022/09/09 00:18      22345  801B0C870   215266  80FA67C30   \n",
      "2  2022/09/06 10:33       1267  800E00D50       14  801ED33F0   \n",
      "3  2022/09/02 11:32     138395  80E8DB8D0   238190  80F684920   \n",
      "4  2022/09/01 05:49      43049  80FF89190      217  8101478B0   \n",
      "\n",
      "   Amount Received Receiving Currency  Amount Paid Payment Currency  \\\n",
      "0          1439.79        Saudi Riyal      1439.79      Saudi Riyal   \n",
      "1            33.09          US Dollar        33.09        US Dollar   \n",
      "2           263.34               Yuan       263.34             Yuan   \n",
      "3      17154983.76        Swiss Franc  17154983.76      Swiss Franc   \n",
      "4          8499.22             Shekel      8499.22           Shekel   \n",
      "\n",
      "  Payment Format  Is Laundering  \n",
      "0    Credit Card              0  \n",
      "1    Credit Card              0  \n",
      "2            ACH              0  \n",
      "3         Cheque              0  \n",
      "4         Cheque              0  \n"
     ]
    }
   ],
   "source": [
    "#load data \n",
    "device = torch.device(\"cuda\" if torch.cuda.is_available() else \"cpu\")\n",
    "data = pd.read_csv(\"/Users/alixvanhees/Documents/HIRB THESIS /HI-Small_Trans_subset.csv\")\n",
    "print(data.head())"
   ]
  },
  {
   "cell_type": "code",
   "execution_count": 3,
   "id": "a7214800",
   "metadata": {},
   "outputs": [],
   "source": [
    "#preprocessing\n",
    "data['Timestamp'] = pd.to_datetime(data['Timestamp'])\n",
    "data['Hour'] = data['Timestamp'].dt.hour\n",
    "data['Date_Year'] = data['Timestamp'].dt.year\n",
    "data['Date_Month'] = data['Timestamp'].dt.month\n",
    "data['Date_Day'] = data['Timestamp'].dt.day\n",
    "\n",
    "data.drop(columns=['Timestamp'], inplace=True)\n",
    "\n",
    "# Combine Amount Paid and Amount Received \n",
    "data['Amount'] = data[['Amount Paid', 'Amount Received']].mean(axis=1)  \n",
    "#make as string\n",
    "data['Account'] = data['Account'].astype(str)\n",
    "data['Account.1'] = data['Account.1'].astype(str)\n",
    "\n",
    "# remove rows with no Account\n",
    "data.dropna(subset=['Account', 'Account.1'], inplace=True)\n",
    "\n",
    "target = data['Is Laundering'] "
   ]
  },
  {
   "cell_type": "code",
   "execution_count": 7,
   "id": "6d656597",
   "metadata": {},
   "outputs": [
    {
     "name": "stdout",
     "output_type": "stream",
     "text": [
      "Aantal nodes: 456048\n",
      "Aantal edges: 781964\n"
     ]
    }
   ],
   "source": [
    "# built a graph \n",
    "G = nx.DiGraph()\n",
    "edges = list(zip(data[\"Account\"], data[\"Account.1\"], data[\"Amount\"]))\n",
    "G.add_weighted_edges_from(edges)\n",
    "print(f\"Aantal nodes: {G.number_of_nodes()}\")\n",
    "print(f\"Aantal edges: {G.number_of_edges()}\")\n",
    "\n",
    "# Convert to igraph\n",
    "G_ig = ig.Graph.TupleList(list(zip(data[\"Account\"], data[\"Account.1\"])), directed=True)\n",
    "\n",
    "# calculate the networkfeatures\n",
    "data[\"degree_centrality\"] = data[\"Account\"].map(dict(zip(G_ig.vs[\"name\"], G_ig.degree()))).fillna(0)\n",
    "pagerank_scores = G_ig.pagerank()\n",
    "data[\"pagerank\"] = data[\"Account\"].map(dict(zip(G_ig.vs[\"name\"], pagerank_scores))).fillna(0)\n",
    "\n",
    "# Time feature\n",
    "window_size = 50\n",
    "data[\"rolling_24h_amount\"] = data.groupby(\"Account\")[\"Amount\"].rolling(window_size).sum().reset_index(0, drop=True).fillna(0)\n",
    "\n",
    "# transaction count\n",
    "data[\"transaction_count\"] = data.groupby(\"Account\")[\"Amount\"].transform(\"count\")\n",
    "\n",
    "# feature creation \n",
    "features = data.drop(columns=[\n",
    "    'Is Laundering',\n",
    "    'Payment Currency',\n",
    "    'Receiving Currency'\n",
    "]).copy()\n",
    "\n",
    "features[\"degree_centrality\"] = data[\"degree_centrality\"]\n",
    "features[\"pagerank\"] = data[\"pagerank\"]\n",
    "features[\"rolling_24h_amount\"] = data[\"rolling_24h_amount\"]\n",
    "features[\"transaction_count\"] = data[\"transaction_count\"]"
   ]
  },
  {
   "cell_type": "code",
   "execution_count": 8,
   "id": "18a6c96c",
   "metadata": {},
   "outputs": [],
   "source": [
    "# Define Columns\n",
    "numerical_cols = ['Amount', 'Hour', 'Date_Day','degree_centrality','pagerank','rolling_24h_amount','transaction_count']\n",
    "categorical_cols = ['From Bank', 'Account','To Bank','Account.1']\n",
    "target = 'Is Laundering'\n",
    "#Split features abd target\n",
    "X = data[numerical_cols + categorical_cols]\n",
    "y = data[target].astype(float)\n",
    "\n",
    "X_train_full, X_test, y_train_full, y_test = train_test_split(\n",
    "    X, y, test_size=0.3, random_state=42, stratify=y  # stratify \n",
    ")\n",
    "# Further splitting the train set into Train and Validation\n",
    "X_train, X_val, y_train, y_val = train_test_split(\n",
    "    X_train_full, y_train_full, test_size=0.2, stratify=y_train_full, random_state=42)"
   ]
  },
  {
   "cell_type": "code",
   "execution_count": 9,
   "id": "fee77f35",
   "metadata": {},
   "outputs": [
    {
     "name": "stdout",
     "output_type": "stream",
     "text": [
      "Processed Train Set Shape: (1680000, 11)\n"
     ]
    }
   ],
   "source": [
    "#MINMAXSCALER \n",
    "#Scale numerical features (only fitting on train)\n",
    "scaler = MinMaxScaler()\n",
    "X_train_num = scaler.fit_transform(X_train[numerical_cols])\n",
    "X_val_num = scaler.transform(X_val[numerical_cols])   # Only transform\n",
    "X_test_num = scaler.transform(X_test[numerical_cols]) # Only transform\n",
    "\n",
    "# Convert scaled numerical features to DataFrames\n",
    "X_train_num_df = pd.DataFrame(X_train_num, columns=numerical_cols, index=X_train.index)\n",
    "X_val_num_df = pd.DataFrame(X_val_num, columns=numerical_cols, index=X_val.index)\n",
    "X_test_num_df = pd.DataFrame(X_test_num, columns=numerical_cols, index=X_test.index)\n",
    "\n",
    "#LABEL ENCODER \n",
    "\n",
    "# Combine all data for encoding (to prevent unseen labels)\n",
    "combined_data = pd.concat([X_train, X_val, X_test], axis=0)\n",
    "\n",
    "# Initialize a dictionary to store LabelEncoders and vocad_sizes for each column\n",
    "label_encoders = {}\n",
    "vocab_sizes = {}\n",
    "\n",
    "# Fit LabelEncoders on the combined dataset\n",
    "for col in categorical_cols:\n",
    "    le = LabelEncoder()\n",
    "    combined_data[col] = le.fit_transform(combined_data[col].astype(str))\n",
    "    label_encoders[col] = le  # Store the encoder\n",
    "\n",
    "# Split the transformed data back into train, validation, and test sets\n",
    "X_train_cat = combined_data.loc[X_train.index, categorical_cols].reset_index(drop=True)\n",
    "X_val_cat = combined_data.loc[X_val.index, categorical_cols].reset_index(drop=True)\n",
    "X_test_cat = combined_data.loc[X_test.index, categorical_cols].reset_index(drop=True)\n",
    "# Convert the transformed categorical features to DataFrames\n",
    "X_train_cat_df = pd.DataFrame(X_train_cat, columns=categorical_cols, index=X_train.index)\n",
    "X_val_cat_df = pd.DataFrame(X_val_cat, columns=categorical_cols, index=X_val.index)\n",
    "X_test_cat_df = pd.DataFrame(X_test_cat, columns=categorical_cols, index=X_test.index)\n",
    "\n",
    "# Calculate vocab sizes (based on the combined data)\n",
    "for col in categorical_cols:\n",
    "    vocab_sizes[col] = int(combined_data[col].max()) + 1  # +1 because categories are 0-indexed\n",
    "\n",
    "# Combine numerical and categorical features\n",
    "X_train_processed = pd.concat([X_train_num_df, X_train_cat_df], axis=1)\n",
    "X_val_processed = pd.concat([X_val_num_df, X_val_cat_df], axis=1)\n",
    "X_test_processed = pd.concat([X_test_num_df, X_test_cat_df], axis=1)\n",
    "\n",
    "# Display results\n",
    "print(\"Processed Train Set Shape:\", X_train_processed.shape)"
   ]
  },
  {
   "cell_type": "code",
   "execution_count": 10,
   "id": "866b5f66",
   "metadata": {},
   "outputs": [],
   "source": [
    "#Best trial: value of optuna \n",
    "  #gamma: 4.529988306248537\n",
    "  #beta: 0.14238185374092152\n",
    "  #alpha: 0.3379069619030579\n",
    "  #nnpu_gamma: 0.6853675205843353\n",
    "  #lr: 0.002761123426508552\n",
    "  #emb_dim: 8\n",
    "  #hidden_size: 64\n",
    "  #threshold: 0.35963994832994783\n",
    "  #batch_size: 512"
   ]
  },
  {
   "cell_type": "code",
   "execution_count": 11,
   "id": "7c59f6e1",
   "metadata": {},
   "outputs": [],
   "source": [
    "pi = 0.001  # prior over the full dataset (e.g. fraud prevalence)\n",
    "label_fraction = 0.2  # 20% of positives are labeled\n",
    "\n",
    "class PUDatasetEmbedding(Dataset):\n",
    "    def __init__(self, X_num, X_cat, y_true, label_fraction, random_state=42):\n",
    "        \n",
    "        self.X_num = np.array(X_num)\n",
    "        self.X_cat = np.array(X_cat)\n",
    "        self.y_true = np.array(y_true)\n",
    "        self.label_fraction = float(label_fraction)\n",
    "        \n",
    "        # Automatically create y_pu (Positive-Unlabeled Labels)\n",
    "        self.y_pu = self._create_y_pu(self.y_true, self.label_fraction, random_state)\n",
    "        \n",
    "        # Print statistics\n",
    "        labeled_count = self.y_pu.sum()\n",
    "        total_positive = (self.y_true == 1).sum()\n",
    "        print(f\"Labeled Positives: {labeled_count} / {total_positive}\")\n",
    "        print(f\"Unlabeled Positives: {total_positive - labeled_count}\")\n",
    "        print(f\"Total Samples: {len(self.y_true)}\")\n",
    "    \n",
    "    def _create_y_pu(self, y_true, label_fraction, random_state):\n",
    "        np.random.seed(random_state)\n",
    "        y_pu = np.zeros_like(y_true, dtype=int)\n",
    "        \n",
    "        # Identify positive samples\n",
    "        positive_indices = np.where(y_true == 1)[0]\n",
    "        n_labeled = int(float(label_fraction) * len(positive_indices))\n",
    "        \n",
    "        # Randomly select which positives will be labeled\n",
    "        labeled_indices = np.random.choice(positive_indices, size=n_labeled, replace=False)\n",
    "        y_pu[labeled_indices] = 1\n",
    "        \n",
    "        return y_pu\n",
    "    \n",
    "    def __len__(self):\n",
    "        return len(self.X_num)\n",
    "\n",
    "    def __getitem__(self, idx):\n",
    "        x_num = torch.tensor(self.X_num[idx], dtype=torch.float32)\n",
    "        x_cat = torch.tensor(self.X_cat[idx], dtype=torch.long)\n",
    "        pu_label = torch.tensor(self.y_pu[idx], dtype=torch.float32)\n",
    "        y_true = torch.tensor(self.y_true[idx], dtype=torch.float32)\n",
    "        return x_num, x_cat, pu_label, y_true"
   ]
  },
  {
   "cell_type": "code",
   "execution_count": 12,
   "id": "29a73863",
   "metadata": {},
   "outputs": [
    {
     "name": "stdout",
     "output_type": "stream",
     "text": [
      "Labeled Positives: 342 / 1713\n",
      "Unlabeled Positives: 1371\n",
      "Total Samples: 1680000\n"
     ]
    }
   ],
   "source": [
    "pu_dataset = PUDatasetEmbedding(X_train_num, X_train_cat, y_train,label_fraction)"
   ]
  },
  {
   "cell_type": "code",
   "execution_count": 13,
   "id": "ec82f8af",
   "metadata": {},
   "outputs": [],
   "source": [
    "def focal_loss_elementwise(y_pred, y_true, gamma=4.529988306248537, alpha=0.3379069619030579):\n",
    "    \"\"\"\n",
    "    Returns focal loss per element (not reduced)\n",
    "    \"\"\"\n",
    "    y_pred = torch.clamp(y_pred, 1e-7, 1. - 1e-7)\n",
    "    ce = - (y_true * torch.log(y_pred) + (1 - y_true) * torch.log(1 - y_pred))\n",
    "    pt = y_true * y_pred + (1 - y_true) * (1 - y_pred)\n",
    "    alpha_factor = y_true * alpha + (1 - y_true) * (1 - alpha)\n",
    "    loss = alpha_factor * ((1 - pt) ** gamma) * ce\n",
    "    return loss\n"
   ]
  },
  {
   "cell_type": "code",
   "execution_count": 14,
   "id": "8c72296c",
   "metadata": {},
   "outputs": [],
   "source": [
    "def nnpu_focal_loss(y_pred, y_true, prior=pi, gamma=4.529988306248537, alpha=0.3379069619030579, beta=0.14238185374092152, nnpu_gamma=0.6853675205843353):\n",
    "    \"\"\"\n",
    "    nnPU with focal loss instead of BCE\n",
    "    \"\"\"\n",
    "    # Masks\n",
    "    mask_pos = y_true == 1\n",
    "    mask_unl = y_true == 0\n",
    "    \n",
    "    #If no positives or no unlabeled, skip this batch\n",
    "    if mask_pos.sum() == 0 or mask_unl.sum() == 0:\n",
    "        return torch.tensor(0.0, requires_grad=True)\n",
    "\n",
    "    # Positive risk\n",
    "    loss_pos = focal_loss_elementwise(y_pred[mask_pos], torch.ones_like(y_pred[mask_pos]), gamma, alpha).mean()\n",
    "\n",
    "    # Negative risk estimate from both P and U\n",
    "    loss_neg_pos = focal_loss_elementwise(y_pred[mask_pos], torch.zeros_like(y_pred[mask_pos]), gamma, alpha).mean()\n",
    "    loss_neg_unl = focal_loss_elementwise(y_pred[mask_unl], torch.zeros_like(y_pred[mask_unl]), gamma, alpha).mean()\n",
    "\n",
    "    # Risk decomposition\n",
    "    positive_risk = prior * loss_pos\n",
    "    negative_risk = loss_neg_unl - prior * loss_neg_pos\n",
    "\n",
    "    # Non-negative correction\n",
    "    if negative_risk < -beta:\n",
    "        total_loss = -nnpu_gamma * negative_risk\n",
    "    else:\n",
    "        total_loss = positive_risk + torch.clamp(negative_risk, min=0.0)\n",
    "\n",
    "    return total_loss\n"
   ]
  },
  {
   "cell_type": "code",
   "execution_count": 15,
   "id": "6d1c16d9",
   "metadata": {},
   "outputs": [],
   "source": [
    "class SimpleEmbeddingPUModel(nn.Module):\n",
    "    def __init__(self, input_dim_numeric, vocab_sizes, emb_dim=8, hidden_size = 64):\n",
    "        super().__init__()\n",
    "\n",
    "        # Embedding layers for 4 categorical features\n",
    "        self.emb_from = nn.Embedding(vocab_sizes['From Bank'], emb_dim)\n",
    "        self.emb_account = nn.Embedding(vocab_sizes['Account'], emb_dim)\n",
    "        self.emb_to = nn.Embedding(vocab_sizes['To Bank'], emb_dim)\n",
    "        self.emb_account1 = nn.Embedding(vocab_sizes['Account.1'], emb_dim)\n",
    "\n",
    "        # Total input: numerical + 4 embeddings\n",
    "        self.fc = nn.Sequential(\n",
    "            nn.Linear(input_dim_numeric + 4 * emb_dim, hidden_size),  # only 1 hidden layer\n",
    "            nn.ReLU(),\n",
    "            nn.Linear(hidden_size, 1),\n",
    "        )\n",
    "\n",
    "\n",
    "    def forward(self, x_num, x_cat):\n",
    "    # 🔍 Sanity check for embedding indices\n",
    "        if (x_cat[:, 0] >= self.emb_from.num_embeddings).any():\n",
    "            raise ValueError(f\"'From Bank' index out of range: max {x_cat[:, 0].max().item()}, allowed < {self.emb_from.num_embeddings}\")\n",
    "        if (x_cat[:, 1] >= self.emb_account.num_embeddings).any():\n",
    "            raise ValueError(f\"'Account' index out of range: max {x_cat[:, 1].max().item()}, allowed < {self.emb_account.num_embeddings}\")\n",
    "        if (x_cat[:, 2] >= self.emb_to.num_embeddings).any():\n",
    "            raise ValueError(f\"'To Bank' index out of range: max {x_cat[:, 2].max().item()}, allowed < {self.emb_to.num_embeddings}\")\n",
    "        if (x_cat[:, 3] >= self.emb_account1.num_embeddings).any():\n",
    "            raise ValueError(f\"'Account.1' index out of range: max {x_cat[:, 3].max().item()}, allowed < {self.emb_account1.num_embeddings}\")\n",
    "\n",
    "        e1 = self.emb_from(x_cat[:, 0])\n",
    "        e2 = self.emb_account(x_cat[:, 1])\n",
    "        e3 = self.emb_to(x_cat[:, 2])\n",
    "        e4 = self.emb_account1(x_cat[:, 3])\n",
    "        x = torch.cat([x_num, e1, e2, e3, e4], dim=1)\n",
    "        return self.fc(x)\n"
   ]
  },
  {
   "cell_type": "code",
   "execution_count": 16,
   "id": "36f57285",
   "metadata": {},
   "outputs": [],
   "source": [
    "dataloader = DataLoader(pu_dataset, batch_size=512, shuffle=True)\n",
    "# Model\n",
    "model = SimpleEmbeddingPUModel(\n",
    "    input_dim_numeric=X_train_num.shape[1],\n",
    "    vocab_sizes=vocab_sizes,\n",
    "    emb_dim=8  # You can tune this\n",
    ")"
   ]
  },
  {
   "cell_type": "code",
   "execution_count": 17,
   "id": "f79c0eb5",
   "metadata": {},
   "outputs": [
    {
     "name": "stdout",
     "output_type": "stream",
     "text": [
      "Epoch 1 - Loss: 0.0001\n",
      "Epoch 2 - Loss: 0.0000\n",
      "Epoch 3 - Loss: 0.0000\n",
      "Epoch 4 - Loss: 0.0000\n",
      "Epoch 5 - Loss: 0.0000\n",
      "Epoch 6 - Loss: 0.0000\n",
      "Epoch 7 - Loss: 0.0000\n",
      "Epoch 8 - Loss: 0.0000\n",
      "Epoch 9 - Loss: 0.0000\n",
      "Epoch 10 - Loss: 0.0000\n"
     ]
    }
   ],
   "source": [
    "#training of the model \n",
    "optimizer = torch.optim.Adam(model.parameters(), lr=0.002761123426508552)\n",
    "\n",
    "for epoch in range(10):\n",
    "    model.train()\n",
    "    total_loss = 0.0\n",
    "\n",
    "    for x_num, x_cat, pu_label,y_true in dataloader:\n",
    "        optimizer.zero_grad()\n",
    "        y_pred = torch.sigmoid(model(x_num, x_cat).squeeze())\n",
    "        loss = nnpu_focal_loss(y_pred, pu_label, prior=pi)  # or nnpu_focal_loss\n",
    "        loss.backward()\n",
    "        optimizer.step()\n",
    "        total_loss += loss.item()\n",
    "\n",
    "    avg_loss = total_loss / len(dataloader)\n",
    "    print(f\"Epoch {epoch+1} - Loss: {avg_loss:.4f}\")\n"
   ]
  },
  {
   "cell_type": "code",
   "execution_count": 18,
   "id": "b06d95f4",
   "metadata": {},
   "outputs": [
    {
     "name": "stdout",
     "output_type": "stream",
     "text": [
      "🔍 Evaluation Results:\n",
      "Accuracy:  0.9977\n",
      "Precision: 0.0238\n",
      "Recall:    0.0305\n",
      "F1 Score:  0.0268\n",
      "ROC AUC:   0.6185\n",
      "PR AUC:    0.0076\n"
     ]
    }
   ],
   "source": [
    "#evaluation\n",
    "X_test_num_np = X_test_num.astype('float32')\n",
    "X_test_cat_np = X_test_cat.to_numpy().astype('int64')\n",
    "\n",
    "model.eval()\n",
    "\n",
    "with torch.no_grad():\n",
    "    x_num_tensor = torch.tensor(X_test_num_np, dtype=torch.float32)\n",
    "    x_cat_tensor = torch.tensor(X_test_cat_np, dtype=torch.long)\n",
    "    logits = model(x_num_tensor, x_cat_tensor).squeeze()  # Probabilities\n",
    "    y_probs = torch.sigmoid(logits).numpy()\n",
    "    y_pred = (y_probs >= 0.35963994832994783).astype(int)  # Binary predictions\n",
    "# y_test = true labels, from your original split\n",
    "y_true = y_test.values.astype(int)  # just in case it's float\n",
    "\n",
    "accuracy = accuracy_score(y_true, y_pred)\n",
    "precision = precision_score(y_true, y_pred)\n",
    "recall = recall_score(y_true, y_pred)\n",
    "f1 = f1_score(y_true, y_pred)\n",
    "auc = roc_auc_score(y_true, y_probs)\n",
    "pr_auc = average_precision_score(y_true, y_probs)\n",
    "\n",
    "print(\"🔍 Evaluation Results:\")\n",
    "print(f\"Accuracy:  {accuracy:.4f}\")\n",
    "print(f\"Precision: {precision:.4f}\")\n",
    "print(f\"Recall:    {recall:.4f}\")\n",
    "print(f\"F1 Score:  {f1:.4f}\")\n",
    "print(f\"ROC AUC:   {auc:.4f}\")\n",
    "print(f\"PR AUC:    {pr_auc:.4f}\") \n"
   ]
  },
  {
   "cell_type": "code",
   "execution_count": 19,
   "id": "bc85247f",
   "metadata": {},
   "outputs": [
    {
     "data": {
      "image/png": "[encoded data removed]",
      "text/plain": [
       "<Figure size 600x400 with 1 Axes>"
      ]
     },
     "metadata": {},
     "output_type": "display_data"
    },
    {
     "data": {
      "image/png": "[encoded data removed]",
      "text/plain": [
       "<Figure size 640x480 with 1 Axes>"
      ]
     },
     "metadata": {},
     "output_type": "display_data"
    },
    {
     "data": {
      "image/png": "[encoded data removed]",
      "text/plain": [
       "<Figure size 600x500 with 2 Axes>"
      ]
     },
     "metadata": {},
     "output_type": "display_data"
    }
   ],
   "source": [
    "#plot of the ROC AUC curve \n",
    "fpr, tpr, _ = roc_curve(y_true, y_probs)\n",
    "plt.figure(figsize=(6, 4))\n",
    "plt.plot(fpr, tpr, label=f\"AUC = {auc:.2f}\")\n",
    "plt.plot([0, 1], [0, 1], '--', color='gray')\n",
    "plt.xlabel('False Positive Rate')\n",
    "plt.ylabel('True Positive Rate')\n",
    "plt.title('ROC Curve')\n",
    "plt.legend()\n",
    "plt.grid()\n",
    "plt.show()\n",
    "#plot distribution of predicted probabilities \n",
    "plt.hist(y_probs, bins=50)\n",
    "plt.title(\"Distribution of predicted probabilities\")\n",
    "plt.xlabel(\"Probability\")\n",
    "plt.ylabel(\"Frequency\")\n",
    "plt.grid()\n",
    "plt.show()\n",
    "\n",
    "# Compute confusion matrix\n",
    "cm = confusion_matrix(y_true, y_pred)\n",
    "# Define labels\n",
    "labels = ['Negative (0)', 'Positive (1)']\n",
    "# Plot it\n",
    "plt.figure(figsize=(6, 5))\n",
    "sns.heatmap(cm, annot=True, fmt='d', cmap='Blues', xticklabels=labels, yticklabels=labels)\n",
    "plt.xlabel('Predicted Label')\n",
    "plt.ylabel('True Label')\n",
    "plt.title('Confusion Matrix')\n",
    "plt.tight_layout()\n",
    "plt.show()"
   ]
  },
  {
   "cell_type": "code",
   "execution_count": 51,
   "id": "09bba0db",
   "metadata": {},
   "outputs": [],
   "source": [
    "#optuna\n",
    "# Pre-compute validation tensors outside the objective function\n",
    "x_val_num_tensor = torch.tensor(X_val_num, dtype=torch.float32).to(device)\n",
    "x_val_cat_tensor = torch.tensor(X_val_cat.to_numpy().astype('int64'), dtype=torch.long).to(device)\n",
    "\n",
    "def objective(trial,x_val_num_tensor, x_val_cat_tensor):\n",
    "    #Sample hyperparameters\n",
    "    gamma = trial.suggest_float('gamma', 1.0, 5.0)\n",
    "    beta = trial.suggest_float('beta', 0.0, 0.2)\n",
    "    alpha = trial.suggest_float(\"alpha\", 0.1, 0.9)\n",
    "    nnpu_gamma = trial.suggest_float(\"nnpu_gamma\", 0.5, 2.0)\n",
    "    lr = trial.suggest_float('lr', 1e-4, 0.3)\n",
    "    emb_dim = trial.suggest_categorical('emb_dim', [4, 8, 16, 32])\n",
    "    hidden_size = trial.suggest_categorical('hidden_size', [32, 64, 128])\n",
    "    threshold = trial.suggest_float('threshold', 0.1, 0.5)\n",
    "    batch_size = trial.suggest_categorical(\"batch_size\", [64, 128, 256, 512, 1024])\n",
    "\n",
    "\n",
    "    #Define model\n",
    "    model = SimpleEmbeddingPUModel(\n",
    "        input_dim_numeric=X_train_num.shape[1],\n",
    "        vocab_sizes=vocab_sizes,\n",
    "        emb_dim=emb_dim\n",
    "    ).to(device)\n",
    "\n",
    "    #Setup optimizer\n",
    "    dataset = PUDatasetEmbedding(X_train_num, X_train_cat, y_train,label_fraction)\n",
    "    optimizer = torch.optim.Adam(model.parameters(), lr=lr)\n",
    "\n",
    "    #Create DataLoader\n",
    "    loader = DataLoader(dataset, batch_size=int(batch_size), shuffle=True)\n",
    "\n",
    "    #Training loop (shortened for tuning)\n",
    "    model.train()\n",
    "    for epoch in range(10):  # use fewer epochs for faster tuning\n",
    "        for x_num, x_cat, pu_label, _ in loader:\n",
    "            x_num, x_cat, pu_label = x_num.to(device), x_cat.to(device), pu_label.to(device)\n",
    "            optimizer.zero_grad()\n",
    "            y_probs = torch.sigmoid(model(x_num, x_cat).squeeze())\n",
    "            loss = nnpu_focal_loss(y_probs, pu_label, prior=pi, beta=beta, gamma=gamma, alpha=alpha,nnpu_gamma=nnpu_gamma)\n",
    "            if torch.isnan(loss): continue  # skip unstable batches\n",
    "            loss.backward()\n",
    "            optimizer.step()\n",
    "\n",
    "    #Evaluate on Validation Set (not Test Set)\n",
    "    model.eval()\n",
    "    with torch.no_grad():\n",
    "        logits = model(x_val_num_tensor, x_val_cat_tensor).squeeze()\n",
    "        y_probs = torch.sigmoid(logits).cpu().numpy()\n",
    "        y_probs = np.clip(y_probs, 0, 1) \n",
    "        y_pred = (y_probs >= threshold).astype(int)\n",
    "\n",
    "    #Calculate F1 Score on Validation Set\n",
    "    score = f1_score(y_val, y_pred)  # Use y_val, not y_test\n",
    "    return score  #maximize this\n"
   ]
  },
  {
   "cell_type": "code",
   "execution_count": 52,
   "id": "edc0bf23",
   "metadata": {},
   "outputs": [
    {
     "name": "stderr",
     "output_type": "stream",
     "text": [
      "[I 2025-05-13 09:19:10,945] A new study created in memory with name: no-name-0fd4fcfd-1c79-4a95-be99-45c9748b31c8\n"
     ]
    },
    {
     "name": "stdout",
     "output_type": "stream",
     "text": [
      "Labeled Positives: 342 / 1713\n",
      "Unlabeled Positives: 1371\n",
      "Total Samples: 1680000\n"
     ]
    },
    {
     "name": "stderr",
     "output_type": "stream",
     "text": [
      "[I 2025-05-13 09:29:54,414] Trial 0 finished with value: 0.016293279022403257 and parameters: {'gamma': 4.452844591660477, 'beta': 0.07366488170089867, 'alpha': 0.4551846413446117, 'nnpu_gamma': 0.5866473337327911, 'lr': 0.0022064428112690154, 'emb_dim': 4, 'hidden_size': 32, 'threshold': 0.421394558616066, 'batch_size': 256}. Best is trial 0 with value: 0.016293279022403257.\n"
     ]
    },
    {
     "name": "stdout",
     "output_type": "stream",
     "text": [
      "Labeled Positives: 342 / 1713\n",
      "Unlabeled Positives: 1371\n",
      "Total Samples: 1680000\n"
     ]
    },
    {
     "name": "stderr",
     "output_type": "stream",
     "text": [
      "[I 2025-05-13 09:51:29,631] Trial 1 finished with value: 0.035794183445190156 and parameters: {'gamma': 2.356017220579132, 'beta': 0.06303858327288274, 'alpha': 0.13466365325608853, 'nnpu_gamma': 0.9718855157210962, 'lr': 0.0016098543771382765, 'emb_dim': 32, 'hidden_size': 128, 'threshold': 0.35690353472005254, 'batch_size': 256}. Best is trial 1 with value: 0.035794183445190156.\n"
     ]
    },
    {
     "name": "stdout",
     "output_type": "stream",
     "text": [
      "Labeled Positives: 342 / 1713\n",
      "Unlabeled Positives: 1371\n",
      "Total Samples: 1680000\n"
     ]
    },
    {
     "name": "stderr",
     "output_type": "stream",
     "text": [
      "[I 2025-05-13 10:06:45,500] Trial 2 finished with value: 0.022838499184339313 and parameters: {'gamma': 3.809698960699325, 'beta': 0.12983008223768555, 'alpha': 0.19207074618092115, 'nnpu_gamma': 1.825730819336991, 'lr': 0.002105341437162727, 'emb_dim': 4, 'hidden_size': 64, 'threshold': 0.28288008706774004, 'batch_size': 256}. Best is trial 1 with value: 0.035794183445190156.\n"
     ]
    },
    {
     "name": "stdout",
     "output_type": "stream",
     "text": [
      "Labeled Positives: 342 / 1713\n",
      "Unlabeled Positives: 1371\n",
      "Total Samples: 1680000\n"
     ]
    },
    {
     "name": "stderr",
     "output_type": "stream",
     "text": [
      "[I 2025-05-13 10:25:46,431] Trial 3 finished with value: 0.04081632653061225 and parameters: {'gamma': 2.9589593828502387, 'beta': 0.14735826635382307, 'alpha': 0.1757712025959447, 'nnpu_gamma': 0.8937701804959729, 'lr': 0.00482104113026094, 'emb_dim': 4, 'hidden_size': 128, 'threshold': 0.36440100690836297, 'batch_size': 1024}. Best is trial 3 with value: 0.04081632653061225.\n"
     ]
    },
    {
     "name": "stdout",
     "output_type": "stream",
     "text": [
      "Labeled Positives: 342 / 1713\n",
      "Unlabeled Positives: 1371\n",
      "Total Samples: 1680000\n"
     ]
    },
    {
     "name": "stderr",
     "output_type": "stream",
     "text": [
      "[I 2025-05-13 10:35:15,013] Trial 4 finished with value: 0.024852071005917156 and parameters: {'gamma': 4.7298445258108, 'beta': 0.04931008029066506, 'alpha': 0.7693749745030498, 'nnpu_gamma': 1.553802679506869, 'lr': 0.004172580857778364, 'emb_dim': 4, 'hidden_size': 64, 'threshold': 0.41177395675852635, 'batch_size': 512}. Best is trial 3 with value: 0.04081632653061225.\n"
     ]
    },
    {
     "name": "stdout",
     "output_type": "stream",
     "text": [
      "Labeled Positives: 342 / 1713\n",
      "Unlabeled Positives: 1371\n",
      "Total Samples: 1680000\n"
     ]
    },
    {
     "name": "stderr",
     "output_type": "stream",
     "text": [
      "[I 2025-05-13 10:44:02,461] Trial 5 finished with value: 0.007980157446349617 and parameters: {'gamma': 3.3998562067954605, 'beta': 0.14153988438280674, 'alpha': 0.6846889258222923, 'nnpu_gamma': 1.999577455561296, 'lr': 0.002382193959604564, 'emb_dim': 16, 'hidden_size': 32, 'threshold': 0.15993856020972574, 'batch_size': 128}. Best is trial 3 with value: 0.04081632653061225.\n"
     ]
    },
    {
     "name": "stdout",
     "output_type": "stream",
     "text": [
      "Labeled Positives: 342 / 1713\n",
      "Unlabeled Positives: 1371\n",
      "Total Samples: 1680000\n"
     ]
    },
    {
     "name": "stderr",
     "output_type": "stream",
     "text": [
      "[I 2025-05-13 10:55:02,389] Trial 6 finished with value: 0.0448780487804878 and parameters: {'gamma': 4.529988306248537, 'beta': 0.14238185374092152, 'alpha': 0.3379069619030579, 'nnpu_gamma': 0.6853675205843353, 'lr': 0.002761123426508552, 'emb_dim': 8, 'hidden_size': 64, 'threshold': 0.35963994832994783, 'batch_size': 512}. Best is trial 6 with value: 0.0448780487804878.\n"
     ]
    },
    {
     "name": "stdout",
     "output_type": "stream",
     "text": [
      "Labeled Positives: 342 / 1713\n",
      "Unlabeled Positives: 1371\n",
      "Total Samples: 1680000\n"
     ]
    },
    {
     "name": "stderr",
     "output_type": "stream",
     "text": [
      "[I 2025-05-13 11:05:23,930] Trial 7 finished with value: 0.03344120819848975 and parameters: {'gamma': 1.1115758814896668, 'beta': 0.06736455263431416, 'alpha': 0.6121116838209212, 'nnpu_gamma': 0.7133846515672002, 'lr': 0.004933148785425647, 'emb_dim': 8, 'hidden_size': 128, 'threshold': 0.16364265635904246, 'batch_size': 512}. Best is trial 6 with value: 0.0448780487804878.\n"
     ]
    },
    {
     "name": "stdout",
     "output_type": "stream",
     "text": [
      "Labeled Positives: 342 / 1713\n",
      "Unlabeled Positives: 1371\n",
      "Total Samples: 1680000\n"
     ]
    },
    {
     "name": "stderr",
     "output_type": "stream",
     "text": [
      "[I 2025-05-13 11:15:24,066] Trial 8 finished with value: 0.03022670025188917 and parameters: {'gamma': 3.173397808039962, 'beta': 0.15455533188024487, 'alpha': 0.26248700860807384, 'nnpu_gamma': 1.1831763466495993, 'lr': 0.004683335014576066, 'emb_dim': 8, 'hidden_size': 128, 'threshold': 0.295510771596048, 'batch_size': 256}. Best is trial 6 with value: 0.0448780487804878.\n"
     ]
    },
    {
     "name": "stdout",
     "output_type": "stream",
     "text": [
      "Labeled Positives: 342 / 1713\n",
      "Unlabeled Positives: 1371\n",
      "Total Samples: 1680000\n"
     ]
    },
    {
     "name": "stderr",
     "output_type": "stream",
     "text": [
      "[I 2025-05-13 11:26:33,779] Trial 9 finished with value: 0.016657412548584122 and parameters: {'gamma': 4.218123673403138, 'beta': 0.18755607572283772, 'alpha': 0.7938639785228387, 'nnpu_gamma': 1.2466021050064304, 'lr': 0.0044333277902160175, 'emb_dim': 32, 'hidden_size': 32, 'threshold': 0.4173756863175532, 'batch_size': 128}. Best is trial 6 with value: 0.0448780487804878.\n"
     ]
    },
    {
     "name": "stdout",
     "output_type": "stream",
     "text": [
      "Best trial:\n",
      "  gamma: 4.529988306248537\n",
      "  beta: 0.14238185374092152\n",
      "  alpha: 0.3379069619030579\n",
      "  nnpu_gamma: 0.6853675205843353\n",
      "  lr: 0.002761123426508552\n",
      "  emb_dim: 8\n",
      "  hidden_size: 64\n",
      "  threshold: 0.35963994832994783\n",
      "  batch_size: 512\n"
     ]
    }
   ],
   "source": [
    "study = optuna.create_study(direction='maximize')  # we're maximizing F1\n",
    "study.optimize(lambda trial: objective(trial, x_val_num_tensor, x_val_cat_tensor), n_trials=10)\n",
    "print(\"Best trial:\")\n",
    "trial = study.best_trial\n",
    "\n",
    "for key, value in trial.params.items():\n",
    "    print(f\"  {key}: {value}\")\n"
   ]
  },
  {
   "cell_type": "code",
   "execution_count": 62,
   "id": "ad0fb622",
   "metadata": {},
   "outputs": [],
   "source": [
    "np.save(\"nnPU_IBM_y_true.npy\",y_true)\n",
    "np.save(\"nnPU_IBM_y_pred.npy\",y_pred)\n",
    "np.save(\"nnPU_IBM_y_probs.npy\",y_probs)"
   ]
  }
 ],
 "metadata": {
  "kernelspec": {
   "display_name": "Python 3 (ipykernel)",
   "language": "python",
   "name": "python3"
  },
  "language_info": {
   "codemirror_mode": {
    "name": "ipython",
    "version": 3
   },
   "file_extension": ".py",
   "mimetype": "text/x-python",
   "name": "python",
   "nbconvert_exporter": "python",
   "pygments_lexer": "ipython3",
   "version": "3.8.8"
  }
 },
 "nbformat": 4,
 "nbformat_minor": 5
}
