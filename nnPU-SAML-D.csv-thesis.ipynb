{
 "cells": [
  {
   "cell_type": "code",
   "execution_count": 3,
   "id": "e7a5aae9",
   "metadata": {},
   "outputs": [
    {
     "data": {
      "text/html": [
       "<div>\n",
       "<style scoped>\n",
       "    .dataframe tbody tr th:only-of-type {\n",
       "        vertical-align: middle;\n",
       "    }\n",
       "\n",
       "    .dataframe tbody tr th {\n",
       "        vertical-align: top;\n",
       "    }\n",
       "\n",
       "    .dataframe thead th {\n",
       "        text-align: right;\n",
       "    }\n",
       "</style>\n",
       "<table border=\"1\" class=\"dataframe\">\n",
       "  <thead>\n",
       "    <tr style=\"text-align: right;\">\n",
       "      <th></th>\n",
       "      <th>Time</th>\n",
       "      <th>Date</th>\n",
       "      <th>Sender_account</th>\n",
       "      <th>Receiver_account</th>\n",
       "      <th>Amount</th>\n",
       "      <th>Payment_currency</th>\n",
       "      <th>Received_currency</th>\n",
       "      <th>Sender_bank_location</th>\n",
       "      <th>Receiver_bank_location</th>\n",
       "      <th>Payment_type</th>\n",
       "      <th>Is_laundering</th>\n",
       "      <th>Laundering_type</th>\n",
       "    </tr>\n",
       "  </thead>\n",
       "  <tbody>\n",
       "    <tr>\n",
       "      <th>2999995</th>\n",
       "      <td>23:01:55</td>\n",
       "      <td>2023-06-03</td>\n",
       "      <td>6465028610</td>\n",
       "      <td>2172225510</td>\n",
       "      <td>155695.31</td>\n",
       "      <td>UK pounds</td>\n",
       "      <td>Dirham</td>\n",
       "      <td>UK</td>\n",
       "      <td>UAE</td>\n",
       "      <td>Cross-border</td>\n",
       "      <td>1</td>\n",
       "      <td>Single_large</td>\n",
       "    </tr>\n",
       "    <tr>\n",
       "      <th>2999996</th>\n",
       "      <td>08:14:29</td>\n",
       "      <td>2023-05-10</td>\n",
       "      <td>9634559331</td>\n",
       "      <td>8020264563</td>\n",
       "      <td>2481.04</td>\n",
       "      <td>UK pounds</td>\n",
       "      <td>UK pounds</td>\n",
       "      <td>UK</td>\n",
       "      <td>UK</td>\n",
       "      <td>Cash Deposit</td>\n",
       "      <td>1</td>\n",
       "      <td>Smurfing</td>\n",
       "    </tr>\n",
       "    <tr>\n",
       "      <th>2999997</th>\n",
       "      <td>22:05:45</td>\n",
       "      <td>2022-12-15</td>\n",
       "      <td>1240988490</td>\n",
       "      <td>4597902876</td>\n",
       "      <td>3119.80</td>\n",
       "      <td>UK pounds</td>\n",
       "      <td>Yen</td>\n",
       "      <td>UK</td>\n",
       "      <td>UK</td>\n",
       "      <td>Cheque</td>\n",
       "      <td>1</td>\n",
       "      <td>Structuring</td>\n",
       "    </tr>\n",
       "    <tr>\n",
       "      <th>2999998</th>\n",
       "      <td>22:17:46</td>\n",
       "      <td>2022-10-18</td>\n",
       "      <td>6770601554</td>\n",
       "      <td>6128626942</td>\n",
       "      <td>76.65</td>\n",
       "      <td>UK pounds</td>\n",
       "      <td>Naira</td>\n",
       "      <td>UK</td>\n",
       "      <td>Nigeria</td>\n",
       "      <td>Cash Withdrawal</td>\n",
       "      <td>1</td>\n",
       "      <td>Cash_Withdrawal</td>\n",
       "    </tr>\n",
       "    <tr>\n",
       "      <th>2999999</th>\n",
       "      <td>05:46:53</td>\n",
       "      <td>2023-04-05</td>\n",
       "      <td>8424086459</td>\n",
       "      <td>3934928194</td>\n",
       "      <td>4284.21</td>\n",
       "      <td>UK pounds</td>\n",
       "      <td>Albanian lek</td>\n",
       "      <td>UK</td>\n",
       "      <td>Albania</td>\n",
       "      <td>Cross-border</td>\n",
       "      <td>1</td>\n",
       "      <td>Deposit-Send</td>\n",
       "    </tr>\n",
       "  </tbody>\n",
       "</table>\n",
       "</div>"
      ],
      "text/plain": [
       "             Time        Date  Sender_account  Receiver_account     Amount  \\\n",
       "2999995  23:01:55  2023-06-03      6465028610        2172225510  155695.31   \n",
       "2999996  08:14:29  2023-05-10      9634559331        8020264563    2481.04   \n",
       "2999997  22:05:45  2022-12-15      1240988490        4597902876    3119.80   \n",
       "2999998  22:17:46  2022-10-18      6770601554        6128626942      76.65   \n",
       "2999999  05:46:53  2023-04-05      8424086459        3934928194    4284.21   \n",
       "\n",
       "        Payment_currency Received_currency Sender_bank_location  \\\n",
       "2999995        UK pounds            Dirham                   UK   \n",
       "2999996        UK pounds         UK pounds                   UK   \n",
       "2999997        UK pounds               Yen                   UK   \n",
       "2999998        UK pounds             Naira                   UK   \n",
       "2999999        UK pounds      Albanian lek                   UK   \n",
       "\n",
       "        Receiver_bank_location     Payment_type  Is_laundering  \\\n",
       "2999995                    UAE     Cross-border              1   \n",
       "2999996                     UK     Cash Deposit              1   \n",
       "2999997                     UK           Cheque              1   \n",
       "2999998                Nigeria  Cash Withdrawal              1   \n",
       "2999999                Albania     Cross-border              1   \n",
       "\n",
       "         Laundering_type  \n",
       "2999995     Single_large  \n",
       "2999996         Smurfing  \n",
       "2999997      Structuring  \n",
       "2999998  Cash_Withdrawal  \n",
       "2999999     Deposit-Send  "
      ]
     },
     "execution_count": 3,
     "metadata": {},
     "output_type": "execute_result"
    }
   ],
   "source": [
    "import pandas as pd\n",
    "import numpy as np\n",
    "from sklearn import preprocessing\n",
    "from sklearn.model_selection import train_test_split\n",
    "import networkx as nx\n",
    "from collections import Counter\n",
    "from sklearn.compose import ColumnTransformer\n",
    "from sklearn.preprocessing import MinMaxScaler, LabelEncoder\n",
    "from torch.utils.data import Dataset\n",
    "from torch.utils.data import DataLoader\n",
    "from sklearn.metrics import precision_score, recall_score, f1_score, roc_auc_score, roc_curve, confusion_matrix, accuracy_score,average_precision_score\n",
    "import seaborn as sns\n",
    "import torch.nn as nn\n",
    "import torch\n",
    "import torch.nn.functional as F\n",
    "import matplotlib.pyplot as plt\n",
    "device = torch.device(\"cuda\" if torch.cuda.is_available() else \"cpu\")\n",
    "data = pd.read_csv(\"/Users/alixvanhees/Documents/HIRB THESIS /SAML-D_subset.csv\")\n",
    "data.tail()"
   ]
  },
  {
   "cell_type": "code",
   "execution_count": 4,
   "id": "60229714",
   "metadata": {},
   "outputs": [],
   "source": [
    "data['Hour'] = pd.to_datetime(data['Time']).dt.hour\n",
    "data['Date_Year'] = pd.to_datetime(data['Date']).dt.year\n",
    "data['Date_Month'] = pd.to_datetime(data['Date']).dt.month\n",
    "data['Date_Day'] = pd.to_datetime(data['Date']).dt.day\n",
    "\n",
    "data.drop(columns=['Laundering_type'], inplace=True)\n",
    "data.drop(columns=['Time', 'Date'], inplace=True)\n",
    "\n",
    "# make strings and that they don't have any empty values \n",
    "data[\"Sender_account\"] = data[\"Sender_account\"].astype(str)\n",
    "data[\"Receiver_account\"] = data[\"Receiver_account\"].astype(str)\n",
    "data.dropna(subset=[\"Sender_account\", \"Receiver_account\"], inplace=True)\n"
   ]
  },
  {
   "cell_type": "code",
   "execution_count": 5,
   "id": "0dc45f56",
   "metadata": {},
   "outputs": [
    {
     "name": "stdout",
     "output_type": "stream",
     "text": [
      " Graph built.\n",
      " Calculating pagerank...\n",
      " Pagerank done.\n",
      " Degree calculations done.\n",
      " Mapping features to DataFrame...\n",
      " All network features added.\n"
     ]
    }
   ],
   "source": [
    "#  Adjust column names for the igprah (optional)\n",
    "sender_col = \"Sender_account\"\n",
    "receiver_col = \"Receiver_account\"\n",
    "amount_col = \"Amount\"\n",
    "\n",
    "#  Build the graph (directed graph with edge weights as transaction amounts)\n",
    "G = nx.DiGraph()\n",
    "for _, row in data.iterrows():\n",
    "    G.add_edge(row[sender_col], row[receiver_col], weight=row[amount_col])\n",
    "\n",
    "print(\" Graph built.\")\n",
    "print(\" Calculating pagerank...\")\n",
    "pagerank = nx.pagerank(G, weight='weight')\n",
    "print(\" Pagerank done.\")\n",
    "\n",
    "# Degrees\n",
    "in_deg = dict(G.in_degree())\n",
    "out_deg = dict(G.out_degree())\n",
    "degree_centrality = nx.degree_centrality(G)\n",
    "print(\" Degree calculations done.\")\n",
    "\n",
    "# Transaction counts\n",
    "sender_counts = Counter(data[sender_col])\n",
    "receiver_counts = Counter(data[receiver_col])\n",
    "\n",
    "#  Map features back into your DataFrame\n",
    "print(\" Mapping features to DataFrame...\")\n",
    "data[\"pagerank_sender\"] = data[sender_col].map(pagerank)\n",
    "data[\"pagerank_receiver\"] = data[receiver_col].map(pagerank)\n",
    "\n",
    "data[\"in_degree_sender\"] = data[sender_col].map(in_deg)\n",
    "data[\"out_degree_sender\"] = data[sender_col].map(out_deg)\n",
    "\n",
    "data[\"in_degree_receiver\"] = data[receiver_col].map(in_deg)\n",
    "data[\"out_degree_receiver\"] = data[receiver_col].map(out_deg)\n",
    "\n",
    "data[\"sender_degree_centrality\"] = data[sender_col].map(degree_centrality).fillna(0)\n",
    "data[\"receiver_degree_centrality\"] = data[receiver_col].map(degree_centrality).fillna(0)\n",
    "\n",
    "data[\"sender_tx_count\"] = data[sender_col].map(sender_counts)\n",
    "data[\"receiver_tx_count\"] = data[receiver_col].map(receiver_counts)\n",
    "\n",
    "print(\" All network features added.\")\n"
   ]
  },
  {
   "cell_type": "code",
   "execution_count": 6,
   "id": "01b43fbe",
   "metadata": {},
   "outputs": [],
   "source": [
    "# define the columns \n",
    "numerical_cols = ['Hour', 'Amount','Date_Year', 'Date_Month', 'Date_Day','pagerank_sender', 'pagerank_receiver',\n",
    "    'in_degree_sender', 'out_degree_sender',\n",
    "    'in_degree_receiver', 'out_degree_receiver',\n",
    "    'sender_degree_centrality', 'receiver_degree_centrality',\n",
    "    'sender_tx_count', 'receiver_tx_count']\n",
    "categorical_cols = ['Sender_account', 'Receiver_account', 'Payment_currency', 'Received_currency',\n",
    "                   'Sender_bank_location', 'Receiver_bank_location', 'Payment_type']\n",
    "target = 'Is_laundering'\n",
    "\n",
    "# Splits features en target\n",
    "X = data[numerical_cols + categorical_cols]\n",
    "y = data[target].astype(float)\n",
    "\n",
    "#split train and test set \n",
    "X_train_full, X_test, y_train_full, y_test = train_test_split(\n",
    "    X, y, test_size=0.3, random_state=42, stratify=y  # stratify is handig bij imbalance\n",
    ")\n",
    "# Further splitting the train set into Train and Validation\n",
    "X_train, X_val, y_train, y_val = train_test_split(\n",
    "    X_train_full, y_train_full, test_size=0.2, stratify=y_train_full, random_state=42)\n"
   ]
  },
  {
   "cell_type": "code",
   "execution_count": 7,
   "id": "3ab136bc",
   "metadata": {},
   "outputs": [
    {
     "name": "stdout",
     "output_type": "stream",
     "text": [
      "Processed Train Set Shape: (1680000, 22)\n"
     ]
    }
   ],
   "source": [
    "#MINMAXSCALER \n",
    "#Scale numerical features (only fitting on train)\n",
    "scaler = MinMaxScaler()\n",
    "X_train_num = scaler.fit_transform(X_train[numerical_cols])\n",
    "X_val_num = scaler.transform(X_val[numerical_cols])   # Only transform\n",
    "X_test_num = scaler.transform(X_test[numerical_cols]) # Only transform\n",
    "\n",
    "# Convert scaled numerical features to DataFrames\n",
    "X_train_num_df = pd.DataFrame(X_train_num, columns=numerical_cols, index=X_train.index)\n",
    "X_val_num_df = pd.DataFrame(X_val_num, columns=numerical_cols, index=X_val.index)\n",
    "X_test_num_df = pd.DataFrame(X_test_num, columns=numerical_cols, index=X_test.index)\n",
    "\n",
    "#LABEL ENCODER \n",
    "\n",
    "# Combine all data for encoding (to prevent unseen labels)\n",
    "combined_data = pd.concat([X_train, X_val, X_test], axis=0)\n",
    "\n",
    "# Initialize a dictionary to store LabelEncoders for each column\n",
    "label_encoders = {}\n",
    "vocab_sizes = {}\n",
    "\n",
    "# Fit LabelEncoders on the combined dataset\n",
    "for col in categorical_cols:\n",
    "    le = LabelEncoder()\n",
    "    combined_data[col] = le.fit_transform(combined_data[col].astype(str))\n",
    "    label_encoders[col] = le  # Store the encoder\n",
    "\n",
    "# Split the transformed data back into train, validation, and test sets\n",
    "X_train_cat = combined_data.loc[X_train.index, categorical_cols].reset_index(drop=True)\n",
    "X_val_cat = combined_data.loc[X_val.index, categorical_cols].reset_index(drop=True)\n",
    "X_test_cat = combined_data.loc[X_test.index, categorical_cols].reset_index(drop=True)\n",
    "# Convert the transformed categorical features to DataFrames\n",
    "X_train_cat_df = pd.DataFrame(X_train_cat, columns=categorical_cols, index=X_train.index)\n",
    "X_val_cat_df = pd.DataFrame(X_val_cat, columns=categorical_cols, index=X_val.index)\n",
    "X_test_cat_df = pd.DataFrame(X_test_cat, columns=categorical_cols, index=X_test.index)\n",
    "\n",
    "# Calculate vocab sizes (based on the combined data)\n",
    "for col in categorical_cols:\n",
    "    vocab_sizes[col] = int(combined_data[col].max()) + 1  # +1 because categories are 0-indexed\n",
    "\n",
    "# Combine numerical and categorical features\n",
    "X_train_processed = pd.concat([X_train_num_df, X_train_cat_df], axis=1)\n",
    "X_val_processed = pd.concat([X_val_num_df, X_val_cat_df], axis=1)\n",
    "X_test_processed = pd.concat([X_test_num_df, X_test_cat_df], axis=1)\n",
    "\n",
    "# Display results\n",
    "print(\"Processed Train Set Shape:\", X_train_processed.shape)"
   ]
  },
  {
   "cell_type": "code",
   "execution_count": 46,
   "id": "6051fb4b",
   "metadata": {},
   "outputs": [
    {
     "name": "stdout",
     "output_type": "stream",
     "text": [
      "Positieve prior π ≈ 0.0010\n"
     ]
    }
   ],
   "source": [
    "#make sure the index run equal with the features \n",
    "y_train = y_train.reset_index(drop=True)  \n",
    "#index of the positive data \n",
    "positive_indices = y_train[y_train == 1].index\n",
    "label_fraction =0.5\n",
    "pi = y.sum() / len(y)\n",
    "print(f\"Positieve prior π ≈ {pi:.4f}\")"
   ]
  },
  {
   "cell_type": "code",
   "execution_count": 47,
   "id": "f56644bb",
   "metadata": {},
   "outputs": [],
   "source": [
    "class PUDatasetEmbedding(Dataset):\n",
    "    def __init__(self, X_num, X_cat, y_true, label_fraction, random_state=42):\n",
    "        \n",
    "        self.X_num = np.array(X_num)\n",
    "        self.X_cat = np.array(X_cat)\n",
    "        self.y_true = np.array(y_true)\n",
    "        self.label_fraction = float(label_fraction)\n",
    "        \n",
    "        # Automatically create y_pu (Positive-Unlabeled Labels)\n",
    "        self.y_pu = self._create_y_pu(self.y_true, self.label_fraction, random_state)\n",
    "        \n",
    "        # Print statistics\n",
    "        labeled_count = self.y_pu.sum()\n",
    "        total_positive = (self.y_true == 1).sum()\n",
    "        print(f\"Labeled Positives: {labeled_count} / {total_positive}\")\n",
    "        print(f\"Unlabeled Positives: {total_positive - labeled_count}\")\n",
    "        print(f\"Total Samples: {len(self.y_true)}\")\n",
    "    \n",
    "    def _create_y_pu(self, y_true, label_fraction, random_state):\n",
    "        np.random.seed(random_state)\n",
    "        y_pu = np.zeros_like(y_true, dtype=int)\n",
    "        \n",
    "        # Identify positive samples\n",
    "        positive_indices = np.where(y_true == 1)[0]\n",
    "        n_labeled = int(float(label_fraction) * len(positive_indices))\n",
    "        \n",
    "        # Randomly select which positives will be labeled\n",
    "        labeled_indices = np.random.choice(positive_indices, size=n_labeled, replace=False)\n",
    "        y_pu[labeled_indices] = 1\n",
    "        \n",
    "        return y_pu\n",
    "    \n",
    "    def __len__(self):\n",
    "        return len(self.X_num)\n",
    "\n",
    "    def __getitem__(self, idx):\n",
    "        x_num = torch.tensor(self.X_num[idx], dtype=torch.float32)\n",
    "        x_cat = torch.tensor(self.X_cat[idx], dtype=torch.long)\n",
    "        pu_label = torch.tensor(self.y_pu[idx], dtype=torch.float32)\n",
    "        y_true = torch.tensor(self.y_true[idx], dtype=torch.float32)\n",
    "        return x_num, x_cat, pu_label, y_true\n"
   ]
  },
  {
   "cell_type": "code",
   "execution_count": 48,
   "id": "e1906b81",
   "metadata": {},
   "outputs": [
    {
     "name": "stdout",
     "output_type": "stream",
     "text": [
      "Labeled Positives: 872 / 1745\n",
      "Unlabeled Positives: 873\n",
      "Total Samples: 1680000\n"
     ]
    }
   ],
   "source": [
    "# Pu dataset \n",
    "pu_dataset = PUDatasetEmbedding(X_train_num,X_train_cat, y_train, label_fraction)\n",
    "\n",
    "#Best trial:\n",
    "  #gamma: 2.7717652137550477\n",
    "  #beta: 0.05823090637416968\n",
    "  #alpha: 0.6271556963034722\n",
    "  #nnpu_gamma: 1.3795782123699025\n",
    "  #lr: 0.0009675306981373241\n",
    "  #emb_dim: 8\n",
    "  #hidden_size: 64\n",
    "  #threshold: 0.3667538503827442\n",
    "  #batch_size: 1024\n"
   ]
  },
  {
   "cell_type": "code",
   "execution_count": 49,
   "id": "6553c058",
   "metadata": {},
   "outputs": [],
   "source": [
    "def focal_loss_elementwise(y_pred, y_true, gamma=2.7717652137550477, alpha=0.6271556963034722):\n",
    "    \"\"\"\n",
    "    Returns focal loss per element (not reduced)\n",
    "    \"\"\"\n",
    "    y_pred = torch.clamp(y_pred, 1e-7, 1. - 1e-7)\n",
    "    ce = - (y_true * torch.log(y_pred) + (1 - y_true) * torch.log(1 - y_pred))\n",
    "    pt = y_true * y_pred + (1 - y_true) * (1 - y_pred)\n",
    "    alpha_factor = y_true * alpha + (1 - y_true) * (1 - alpha)\n",
    "    loss = alpha_factor * ((1 - pt) ** gamma) * ce\n",
    "    return loss\n"
   ]
  },
  {
   "cell_type": "code",
   "execution_count": 50,
   "id": "1ceeb288",
   "metadata": {},
   "outputs": [],
   "source": [
    "def nnpu_focal_loss(y_pred, y_true, prior=pi, gamma=2.7717652137550477, alpha=0.6271556963034722, beta=0.05823090637416968, nnpu_gamma=1.3795782123699025):\n",
    "    \"\"\"\n",
    "    nnPU with focal loss instead of BCE\n",
    "    \"\"\"\n",
    "    # Masks\n",
    "    mask_pos = y_true == 1\n",
    "    mask_unl = y_true == 0\n",
    "    \n",
    "    # If no positives or no unlabeled, skip this batch\n",
    "    if mask_pos.sum() == 0 or mask_unl.sum() == 0:\n",
    "        return torch.tensor(0.0, requires_grad=True)\n",
    "\n",
    "    # Positive risk\n",
    "    loss_pos = focal_loss_elementwise(y_pred[mask_pos], torch.ones_like(y_pred[mask_pos]), gamma, alpha).mean()\n",
    "\n",
    "    # Negative risk estimate from both P and U\n",
    "    loss_neg_pos = focal_loss_elementwise(y_pred[mask_pos], torch.zeros_like(y_pred[mask_pos]), gamma, alpha).mean()\n",
    "    loss_neg_unl = focal_loss_elementwise(y_pred[mask_unl], torch.zeros_like(y_pred[mask_unl]), gamma, alpha).mean()\n",
    "\n",
    "    # Risk decomposition\n",
    "    positive_risk = prior * loss_pos\n",
    "    negative_risk = loss_neg_unl - prior * loss_neg_pos\n",
    "\n",
    "    # Non-negative correction\n",
    "    if negative_risk < -beta:\n",
    "        total_loss = -nnpu_gamma * negative_risk\n",
    "    else:\n",
    "        total_loss = positive_risk + torch.clamp(negative_risk, min=0.0)\n",
    "\n",
    "    return total_loss\n"
   ]
  },
  {
   "cell_type": "code",
   "execution_count": 51,
   "id": "562a521a",
   "metadata": {},
   "outputs": [],
   "source": [
    "class SimpleEmbeddingPUModel(nn.Module):\n",
    "    def __init__(self, input_dim_numeric, vocab_sizes, emb_dim=8, hidden_size=64):\n",
    "        super().__init__()\n",
    "\n",
    "        # Define 7 embedding layers for the categorical features\n",
    "        self.emb_sender = nn.Embedding(vocab_sizes['Sender_account'], emb_dim)\n",
    "        self.emb_receiver = nn.Embedding(vocab_sizes['Receiver_account'], emb_dim)\n",
    "        self.emb_pay_curr = nn.Embedding(vocab_sizes['Payment_currency'], emb_dim)\n",
    "        self.emb_recv_curr = nn.Embedding(vocab_sizes['Received_currency'], emb_dim)\n",
    "        self.emb_sender_loc = nn.Embedding(vocab_sizes['Sender_bank_location'], emb_dim)\n",
    "        self.emb_receiver_loc = nn.Embedding(vocab_sizes['Receiver_bank_location'], emb_dim)\n",
    "        self.emb_pay_type = nn.Embedding(vocab_sizes['Payment_type'], emb_dim)\n",
    "\n",
    "        # Update input dimension for the linear layer\n",
    "        self.fc = nn.Sequential(\n",
    "            nn.Linear(input_dim_numeric + 7 * emb_dim, hidden_size),\n",
    "            nn.ReLU(),\n",
    "            nn.Linear(hidden_size, 1),\n",
    "        )\n",
    "\n",
    "    def forward(self, x_num, x_cat):\n",
    "        # Unpack each embedding from x_cat\n",
    "        e1 = self.emb_sender(x_cat[:, 0])\n",
    "        e2 = self.emb_receiver(x_cat[:, 1])\n",
    "        e3 = self.emb_pay_curr(x_cat[:, 2])\n",
    "        e4 = self.emb_recv_curr(x_cat[:, 3])\n",
    "        e5 = self.emb_sender_loc(x_cat[:, 4])\n",
    "        e6 = self.emb_receiver_loc(x_cat[:, 5])\n",
    "        e7 = self.emb_pay_type(x_cat[:, 6])\n",
    "\n",
    "        # Concatenate all embeddings with numeric features\n",
    "        x = torch.cat([x_num, e1, e2, e3, e4, e5, e6, e7], dim=1)\n",
    "        return self.fc(x)\n"
   ]
  },
  {
   "cell_type": "code",
   "execution_count": 52,
   "id": "9eeb8d9f",
   "metadata": {},
   "outputs": [],
   "source": [
    "# Dataloader\n",
    "dataloader = DataLoader(pu_dataset, batch_size=1024, shuffle=True)\n",
    "\n",
    "# Model\n",
    "model = SimpleEmbeddingPUModel(\n",
    "    input_dim_numeric=X_train_num.shape[1],\n",
    "    vocab_sizes=vocab_sizes,\n",
    "    emb_dim=8  # You can tune this\n",
    ")"
   ]
  },
  {
   "cell_type": "code",
   "execution_count": 53,
   "id": "156e926f",
   "metadata": {},
   "outputs": [
    {
     "name": "stdout",
     "output_type": "stream",
     "text": [
      "Epoch 1 - Loss: 0.0005\n",
      "Epoch 2 - Loss: 0.0004\n",
      "Epoch 3 - Loss: 0.0003\n",
      "Epoch 4 - Loss: 0.0002\n",
      "Epoch 5 - Loss: 0.0001\n",
      "Epoch 6 - Loss: 0.0001\n",
      "Epoch 7 - Loss: 0.0001\n",
      "Epoch 8 - Loss: 0.0001\n",
      "Epoch 9 - Loss: 0.0001\n",
      "Epoch 10 - Loss: 0.0000\n"
     ]
    }
   ],
   "source": [
    "#training of the model\n",
    "optimizer = torch.optim.Adam(model.parameters(), lr=0.0009675306981373241)\n",
    "\n",
    "for epoch in range(10):\n",
    "    model.train()\n",
    "    total_loss = 0.0\n",
    "\n",
    "    for x_num, x_cat, pu_label, y_true in dataloader:\n",
    "        optimizer.zero_grad()\n",
    "        y_pred = torch.sigmoid(model(x_num, x_cat).squeeze())\n",
    "        loss = nnpu_focal_loss(y_pred, pu_label, prior=pi)  \n",
    "        loss.backward()\n",
    "        optimizer.step()\n",
    "        total_loss += loss.item()\n",
    "\n",
    "    avg_loss = total_loss / len(dataloader)\n",
    "    print(f\"Epoch {epoch+1} - Loss: {avg_loss:.4f}\")\n"
   ]
  },
  {
   "cell_type": "code",
   "execution_count": 54,
   "id": "ad0a756c",
   "metadata": {},
   "outputs": [
    {
     "name": "stdout",
     "output_type": "stream",
     "text": [
      "Model evaluatie (gewogen + getuned + threshold-optimalisatie):\n",
      "Accuracy: 0.9993\n",
      "Precision: 0.6173\n",
      "Recall: 0.8160\n",
      "F1-score: 0.7029\n",
      "ROC AUC: 0.9959\n",
      "PR AUC: 0.8319\n"
     ]
    },
    {
     "data": {
      "image/png": "[encoded data removed]",
      "text/plain": [
       "<Figure size 600x500 with 2 Axes>"
      ]
     },
     "metadata": {},
     "output_type": "display_data"
    }
   ],
   "source": [
    "#Evaluation\n",
    "X_test_num_np = X_test_num.astype('float32')\n",
    "X_test_cat_np = X_test_cat.to_numpy().astype('int64')\n",
    "model.eval()\n",
    "\n",
    "with torch.no_grad():\n",
    "    x_num_tensor = torch.tensor(X_test_num_np, dtype=torch.float32)\n",
    "    x_cat_tensor = torch.tensor(X_test_cat_np, dtype=torch.long)\n",
    "    logits = model(x_num_tensor, x_cat_tensor).squeeze()  # Probabilities\n",
    "    y_probs = torch.sigmoid(logits).numpy()\n",
    "    y_pred = (y_probs >= 0.3667538503827442).astype(int)  # Binary predictions\n",
    "# y_test = true labels, from your original split\n",
    "y_true = y_test.values.astype(int)  # just in case it's float\n",
    "\n",
    "accuracy = accuracy_score(y_true, y_pred)\n",
    "precision = precision_score(y_true, y_pred)\n",
    "recall = recall_score(y_true, y_pred)\n",
    "f1 = f1_score(y_true, y_pred)\n",
    "roc_auc = roc_auc_score(y_true, y_probs)\n",
    "pr_auc = average_precision_score(y_true, y_probs)\n",
    "\n",
    "print(\"Model evaluatie (gewogen + getuned + threshold-optimalisatie):\")\n",
    "print(f\"Accuracy: {accuracy:.4f}\")\n",
    "print(f\"Precision: {precision:.4f}\")\n",
    "print(f\"Recall: {recall:.4f}\")\n",
    "print(f\"F1-score: {f1:.4f}\")\n",
    "print(f\"ROC AUC: {roc_auc:.4f}\")\n",
    "print(f\"PR AUC: {pr_auc:.4f}\")\n",
    "\n",
    "# --- CONFUSION MATRIX ---\n",
    "plt.figure(figsize=(6, 5))\n",
    "sns.heatmap(\n",
    "    confusion_matrix(y_true, y_pred),\n",
    "    annot=True, fmt='d', cmap='Blues',\n",
    "    xticklabels=['Not Suspicious', 'Suspicious'],\n",
    "    yticklabels=['Not Suspicious', 'Suspicious']\n",
    ")\n",
    "plt.xlabel('Predicted')\n",
    "plt.ylabel('Actual')\n",
    "plt.title('Confusion Matrix')\n",
    "plt.show()\n",
    "\n"
   ]
  },
  {
   "cell_type": "code",
   "execution_count": 56,
   "id": "1f299f66",
   "metadata": {},
   "outputs": [
    {
     "name": "stdout",
     "output_type": "stream",
     "text": [
      "         Hour    Amount  Date_Year  Date_Month  Date_Day  pagerank_sender  \\\n",
      "1002978    10   2393.16       2023           8        23     5.259174e-06   \n",
      "2020803    20    570.54       2023           6        10     5.259174e-06   \n",
      "42581      23   1936.19       2023           6        30     2.046577e-05   \n",
      "1739854    21  10417.59       2022          11         2     9.144318e-07   \n",
      "396445     11  25879.05       2023           7        29     2.589670e-05   \n",
      "...       ...       ...        ...         ...       ...              ...   \n",
      "1672801    22   7176.20       2023           1        21     1.503485e-05   \n",
      "2798920    23  23259.69       2023           6         4     5.259174e-06   \n",
      "388010      1   5661.93       2023           4        11     1.069010e-05   \n",
      "2315930    23    139.38       2023           6        23     4.172989e-06   \n",
      "2988217     9   5001.79       2022          12        18     9.144318e-07   \n",
      "\n",
      "         pagerank_receiver  in_degree_sender  out_degree_sender  \\\n",
      "1002978       9.298391e-07                 4                 26   \n",
      "2020803       9.169742e-07                 4                 44   \n",
      "42581         9.278507e-07                18                 35   \n",
      "1739854       1.286247e-05                 0                  1   \n",
      "396445        9.787460e-07                23                 40   \n",
      "...                    ...               ...                ...   \n",
      "1672801       9.302356e-07                13                 38   \n",
      "2798920       9.473909e-07                 4                 10   \n",
      "388010        9.570968e-07                 9                 20   \n",
      "2315930       9.146491e-07                 3                 33   \n",
      "2988217       2.000617e-06                 0                  1   \n",
      "\n",
      "         in_degree_receiver  ...  receiver_degree_centrality  sender_tx_count  \\\n",
      "1002978                   1  ...                    0.000001              108   \n",
      "2020803                   1  ...                    0.000001              162   \n",
      "42581                     1  ...                    0.000001              151   \n",
      "1739854                  11  ...                    0.000069                3   \n",
      "396445                    1  ...                    0.000001              166   \n",
      "...                     ...  ...                         ...              ...   \n",
      "1672801                   1  ...                    0.000001              155   \n",
      "2798920                   1  ...                    0.000001               38   \n",
      "388010                    1  ...                    0.000001               65   \n",
      "2315930                   1  ...                    0.000001              115   \n",
      "2988217                   1  ...                    0.000001                1   \n",
      "\n",
      "         receiver_tx_count  Sender_account  Receiver_account Payment_currency  \\\n",
      "1002978                  3      4999680285        3563079825        UK pounds   \n",
      "2020803                  3      9540999674        1355035725        UK pounds   \n",
      "42581                    4      9575204551        5602569458        UK pounds   \n",
      "1739854                 29      6470019074         425739440        UK pounds   \n",
      "396445                   6      9316740652        9357758538        UK pounds   \n",
      "...                    ...             ...               ...              ...   \n",
      "1672801                  3      9765305791        9713122478        UK pounds   \n",
      "2798920                  1       753864930        6326365041        UK pounds   \n",
      "388010                   3       495452965        3552540216        UK pounds   \n",
      "2315930                  3      3192207962          92712156        UK pounds   \n",
      "2988217                  1      4575267456        5521263926        UK pounds   \n",
      "\n",
      "        Received_currency Sender_bank_location Receiver_bank_location  \\\n",
      "1002978         UK pounds                   UK                     UK   \n",
      "2020803         UK pounds                   UK                     UK   \n",
      "42581           UK pounds                   UK                     UK   \n",
      "1739854         UK pounds                   UK                     UK   \n",
      "396445          UK pounds                   UK                     UK   \n",
      "...                   ...                  ...                    ...   \n",
      "1672801         UK pounds                   UK                     UK   \n",
      "2798920         UK pounds                   UK                     UK   \n",
      "388010          UK pounds                   UK                     UK   \n",
      "2315930         UK pounds                   UK                     UK   \n",
      "2988217         UK pounds                   UK                     UK   \n",
      "\n",
      "        Payment_type  \n",
      "1002978   Debit card  \n",
      "2020803          ACH  \n",
      "42581    Credit card  \n",
      "1739854   Debit card  \n",
      "396445           ACH  \n",
      "...              ...  \n",
      "1672801       Cheque  \n",
      "2798920          ACH  \n",
      "388010           ACH  \n",
      "2315930          ACH  \n",
      "2988217  Credit card  \n",
      "\n",
      "[900000 rows x 22 columns]\n"
     ]
    }
   ],
   "source": [
    "print(X_test)"
   ]
  },
  {
   "cell_type": "code",
   "execution_count": 17,
   "id": "f2c52735",
   "metadata": {},
   "outputs": [],
   "source": [
    "fpr_pu, tpr_pu, _ = roc_curve(y_true, y_probs)\n",
    "auc_pu = roc_auc_score(y_test, y_probs)\n",
    "\n",
    "np.savez(\"roc_nnPU.npz\",\n",
    "         fpr=fpr_pu,\n",
    "         tpr=tpr_pu,\n",
    "         auc=auc_pu,\n",
    "         labels=y_test,\n",
    "         scores=y_probs)\n"
   ]
  },
  {
   "cell_type": "code",
   "execution_count": 18,
   "id": "c02a00f9",
   "metadata": {},
   "outputs": [],
   "source": [
    "np.save(\"preds_NNPU.npy\", y_pred)"
   ]
  },
  {
   "cell_type": "code",
   "execution_count": 45,
   "id": "95ae200a",
   "metadata": {},
   "outputs": [],
   "source": [
    "import optuna\n",
    "import torch\n",
    "import torch.nn.functional as F\n",
    "from sklearn.metrics import f1_score\n",
    "from torch.utils.data import DataLoader\n",
    "\n",
    "# Pre-compute validation tensors outside the objective function\n",
    "x_val_num_tensor = torch.tensor(X_val_num, dtype=torch.float32).to(device)\n",
    "x_val_cat_tensor = torch.tensor(X_val_cat.to_numpy().astype('int64'), dtype=torch.long).to(device)\n",
    "\n",
    "def objective(trial,x_val_num_tensor, x_val_cat_tensor):\n",
    "    #Sample hyperparameters\n",
    "    gamma = trial.suggest_float('gamma', 1.0, 5.0)\n",
    "    beta = trial.suggest_float('beta', 0.0, 0.2)\n",
    "    alpha = trial.suggest_float(\"alpha\", 0.1, 0.9)\n",
    "    nnpu_gamma = trial.suggest_float(\"nnpu_gamma\", 0.5, 2.0)\n",
    "    lr = trial.suggest_float('lr', 1e-4, 0.3)\n",
    "    emb_dim = trial.suggest_categorical('emb_dim', [4, 8, 16, 32])\n",
    "    hidden_size = trial.suggest_categorical('hidden_size', [32, 64, 128])\n",
    "    threshold = trial.suggest_float('threshold', 0.1, 0.5)\n",
    "    batch_size = trial.suggest_categorical(\"batch_size\", [64, 128, 256, 512, 1024])\n",
    "\n",
    "\n",
    "    #Define model\n",
    "    model = SimpleEmbeddingPUModel(\n",
    "        input_dim_numeric=X_train_num.shape[1],\n",
    "        vocab_sizes=vocab_sizes,\n",
    "        emb_dim=emb_dim\n",
    "    ).to(device)\n",
    "\n",
    "    #Setup optimizer\n",
    "    optimizer = torch.optim.Adam(model.parameters(), lr=lr)\n",
    "\n",
    "    #Create DataLoader\n",
    "    dataset = PUDatasetEmbedding(X_train_num, X_train_cat, y_train,label_fraction)\n",
    "    loader = DataLoader(dataset, batch_size=int(batch_size), shuffle=True)\n",
    "\n",
    "    #Training loop (shortened for tuning)\n",
    "    model.train()\n",
    "    for epoch in range(10):  # use fewer epochs for faster tuning\n",
    "        for x_num, x_cat, pu_label, y_true in loader:\n",
    "            x_num, x_cat, pu_label = x_num.to(device), x_cat.to(device), pu_label.to(device)\n",
    "            optimizer.zero_grad()\n",
    "            y_probs = torch.sigmoid(model(x_num, x_cat).squeeze())\n",
    "            loss = nnpu_focal_loss(y_probs, pu_label, prior=pi, beta=beta, gamma=gamma, alpha=alpha,nnpu_gamma=nnpu_gamma)\n",
    "            if torch.isnan(loss): continue  # skip unstable batches\n",
    "            loss.backward()\n",
    "            optimizer.step()\n",
    "\n",
    "    #Evaluate on Validation Set (not Test Set)\n",
    "    model.eval()\n",
    "    with torch.no_grad():\n",
    "        logits = model(x_val_num_tensor, x_val_cat_tensor).squeeze()\n",
    "        y_probs = torch.sigmoid(logits).cpu().numpy()\n",
    "        y_probs = np.clip(y_probs, 0, 1) \n",
    "        y_pred = (y_probs >= threshold).astype(int)\n",
    "\n",
    "    #Calculate F1 Score on Validation Set\n",
    "    score = f1_score(y_val, y_pred)  # Use y_val, not y_test\n",
    "    return score  \n"
   ]
  },
  {
   "cell_type": "code",
   "execution_count": 46,
   "id": "2a3cb99f",
   "metadata": {},
   "outputs": [
    {
     "name": "stderr",
     "output_type": "stream",
     "text": [
      "[I 2025-05-12 17:49:37,004] A new study created in memory with name: no-name-363a346e-9bad-4169-91b9-234fb6548409\n"
     ]
    },
    {
     "name": "stdout",
     "output_type": "stream",
     "text": [
      "Labeled Positives: 349 / 1745\n",
      "Unlabeled Positives: 1396\n",
      "Total Samples: 1680000\n"
     ]
    },
    {
     "name": "stderr",
     "output_type": "stream",
     "text": [
      "[I 2025-05-12 18:10:35,100] Trial 0 finished with value: 0.726790450928382 and parameters: {'gamma': 2.7717652137550477, 'beta': 0.05823090637416968, 'alpha': 0.6271556963034722, 'nnpu_gamma': 1.3795782123699025, 'lr': 0.0009675306981373241, 'emb_dim': 8, 'hidden_size': 64, 'threshold': 0.3667538503827442, 'batch_size': 1024}. Best is trial 0 with value: 0.726790450928382.\n"
     ]
    },
    {
     "name": "stdout",
     "output_type": "stream",
     "text": [
      "Labeled Positives: 349 / 1745\n",
      "Unlabeled Positives: 1396\n",
      "Total Samples: 1680000\n"
     ]
    },
    {
     "name": "stderr",
     "output_type": "stream",
     "text": [
      "[I 2025-05-12 18:40:36,971] Trial 1 finished with value: 0.018181818181818184 and parameters: {'gamma': 3.3810134965813012, 'beta': 0.11557625771035374, 'alpha': 0.536066754038552, 'nnpu_gamma': 1.2552911896006398, 'lr': 0.00022912796626414176, 'emb_dim': 16, 'hidden_size': 128, 'threshold': 0.4499343548650231, 'batch_size': 64}. Best is trial 0 with value: 0.726790450928382.\n"
     ]
    },
    {
     "name": "stdout",
     "output_type": "stream",
     "text": [
      "Labeled Positives: 349 / 1745\n",
      "Unlabeled Positives: 1396\n",
      "Total Samples: 1680000\n"
     ]
    },
    {
     "name": "stderr",
     "output_type": "stream",
     "text": [
      "[I 2025-05-12 19:01:39,058] Trial 2 finished with value: 0.5816993464052289 and parameters: {'gamma': 3.2788042431564994, 'beta': 0.03672828880330581, 'alpha': 0.6716111593019429, 'nnpu_gamma': 1.750547735474801, 'lr': 0.00486787096121699, 'emb_dim': 4, 'hidden_size': 32, 'threshold': 0.3380004360659309, 'batch_size': 128}. Best is trial 0 with value: 0.726790450928382.\n"
     ]
    },
    {
     "name": "stdout",
     "output_type": "stream",
     "text": [
      "Labeled Positives: 349 / 1745\n",
      "Unlabeled Positives: 1396\n",
      "Total Samples: 1680000\n"
     ]
    },
    {
     "name": "stderr",
     "output_type": "stream",
     "text": [
      "[I 2025-05-12 19:20:27,604] Trial 3 finished with value: 0.18084097375908947 and parameters: {'gamma': 1.1622675280087051, 'beta': 0.060183729219715355, 'alpha': 0.7688530227952576, 'nnpu_gamma': 1.1841750764801426, 'lr': 0.004039152222175886, 'emb_dim': 8, 'hidden_size': 128, 'threshold': 0.1271758734052241, 'batch_size': 1024}. Best is trial 0 with value: 0.726790450928382.\n"
     ]
    },
    {
     "name": "stdout",
     "output_type": "stream",
     "text": [
      "Labeled Positives: 349 / 1745\n",
      "Unlabeled Positives: 1396\n",
      "Total Samples: 1680000\n"
     ]
    },
    {
     "name": "stderr",
     "output_type": "stream",
     "text": [
      "[I 2025-05-12 19:53:35,786] Trial 4 finished with value: 0.15927750410509028 and parameters: {'gamma': 2.2870458683094244, 'beta': 0.17497254628253933, 'alpha': 0.8777036228048115, 'nnpu_gamma': 1.1666214593595599, 'lr': 0.002439001472843755, 'emb_dim': 32, 'hidden_size': 128, 'threshold': 0.3269873451794344, 'batch_size': 128}. Best is trial 0 with value: 0.726790450928382.\n"
     ]
    },
    {
     "name": "stdout",
     "output_type": "stream",
     "text": [
      "Labeled Positives: 349 / 1745\n",
      "Unlabeled Positives: 1396\n",
      "Total Samples: 1680000\n"
     ]
    },
    {
     "name": "stderr",
     "output_type": "stream",
     "text": [
      "[I 2025-05-12 20:18:18,015] Trial 5 finished with value: 0.5119236883942766 and parameters: {'gamma': 3.909454152147691, 'beta': 0.053665729586362114, 'alpha': 0.5847500357789499, 'nnpu_gamma': 0.7452836373514664, 'lr': 0.0006141878429571576, 'emb_dim': 8, 'hidden_size': 64, 'threshold': 0.30376784899158144, 'batch_size': 256}. Best is trial 0 with value: 0.726790450928382.\n"
     ]
    },
    {
     "name": "stdout",
     "output_type": "stream",
     "text": [
      "Labeled Positives: 349 / 1745\n",
      "Unlabeled Positives: 1396\n",
      "Total Samples: 1680000\n"
     ]
    },
    {
     "name": "stderr",
     "output_type": "stream",
     "text": [
      "[I 2025-05-12 20:31:49,051] Trial 6 finished with value: 0.24365482233502536 and parameters: {'gamma': 4.597523951289725, 'beta': 0.1567562364214572, 'alpha': 0.39688523667996445, 'nnpu_gamma': 0.5486366895187471, 'lr': 0.002994119726955944, 'emb_dim': 16, 'hidden_size': 64, 'threshold': 0.25412917249495337, 'batch_size': 1024}. Best is trial 0 with value: 0.726790450928382.\n"
     ]
    },
    {
     "name": "stdout",
     "output_type": "stream",
     "text": [
      "Labeled Positives: 349 / 1745\n",
      "Unlabeled Positives: 1396\n",
      "Total Samples: 1680000\n"
     ]
    },
    {
     "name": "stderr",
     "output_type": "stream",
     "text": [
      "[I 2025-05-12 20:41:56,031] Trial 7 finished with value: 0.1157760814249364 and parameters: {'gamma': 1.076704725100368, 'beta': 0.02453068937749694, 'alpha': 0.7357846521584357, 'nnpu_gamma': 1.0544119951577566, 'lr': 0.0021091494216340092, 'emb_dim': 32, 'hidden_size': 128, 'threshold': 0.211104631017214, 'batch_size': 256}. Best is trial 0 with value: 0.726790450928382.\n"
     ]
    },
    {
     "name": "stdout",
     "output_type": "stream",
     "text": [
      "Labeled Positives: 349 / 1745\n",
      "Unlabeled Positives: 1396\n",
      "Total Samples: 1680000\n"
     ]
    },
    {
     "name": "stderr",
     "output_type": "stream",
     "text": [
      "[I 2025-05-12 20:50:38,352] Trial 8 finished with value: 0.37422771403353927 and parameters: {'gamma': 1.8455408012143315, 'beta': 0.006331491314734806, 'alpha': 0.34654780363443893, 'nnpu_gamma': 0.7412187093986321, 'lr': 0.0016993247209185103, 'emb_dim': 16, 'hidden_size': 32, 'threshold': 0.25821320862037234, 'batch_size': 128}. Best is trial 0 with value: 0.726790450928382.\n"
     ]
    },
    {
     "name": "stdout",
     "output_type": "stream",
     "text": [
      "Labeled Positives: 349 / 1745\n",
      "Unlabeled Positives: 1396\n",
      "Total Samples: 1680000\n"
     ]
    },
    {
     "name": "stderr",
     "output_type": "stream",
     "text": [
      "[I 2025-05-12 21:00:54,470] Trial 9 finished with value: 0.5306122448979592 and parameters: {'gamma': 3.1335720036073713, 'beta': 0.16522961310031598, 'alpha': 0.2232255858802617, 'nnpu_gamma': 0.8418474265650724, 'lr': 0.0037741516420425674, 'emb_dim': 4, 'hidden_size': 64, 'threshold': 0.39346104594790743, 'batch_size': 512}. Best is trial 0 with value: 0.726790450928382.\n"
     ]
    },
    {
     "name": "stdout",
     "output_type": "stream",
     "text": [
      "Best trial:\n",
      "  gamma: 2.7717652137550477\n",
      "  beta: 0.05823090637416968\n",
      "  alpha: 0.6271556963034722\n",
      "  nnpu_gamma: 1.3795782123699025\n",
      "  lr: 0.0009675306981373241\n",
      "  emb_dim: 8\n",
      "  hidden_size: 64\n",
      "  threshold: 0.3667538503827442\n",
      "  batch_size: 1024\n"
     ]
    }
   ],
   "source": [
    "study = optuna.create_study(direction='maximize')  # we're maximizing F1\n",
    "study.optimize(lambda trial: objective(trial, x_val_num_tensor, x_val_cat_tensor), n_trials=10)\n",
    "print(\"Best trial:\")\n",
    "trial = study.best_trial\n",
    "\n",
    "for key, value in trial.params.items():\n",
    "    print(f\"  {key}: {value}\")\n"
   ]
  }
 ],
 "metadata": {
  "kernelspec": {
   "display_name": "Python 3 (ipykernel)",
   "language": "python",
   "name": "python3"
  },
  "language_info": {
   "codemirror_mode": {
    "name": "ipython",
    "version": 3
   },
   "file_extension": ".py",
   "mimetype": "text/x-python",
   "name": "python",
   "nbconvert_exporter": "python",
   "pygments_lexer": "ipython3",
   "version": "3.8.8"
  }
 },
 "nbformat": 4,
 "nbformat_minor": 5
}
