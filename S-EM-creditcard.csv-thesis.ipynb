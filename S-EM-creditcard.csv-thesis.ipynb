{
 "cells": [
  {
   "cell_type": "code",
   "execution_count": 1,
   "id": "fe772340",
   "metadata": {},
   "outputs": [
    {
     "name": "stdout",
     "output_type": "stream",
     "text": [
      "Requirement already satisfied: python-igraph in /opt/anaconda3/lib/python3.8/site-packages (0.11.8)\n",
      "Requirement already satisfied: igraph==0.11.8 in /opt/anaconda3/lib/python3.8/site-packages (from python-igraph) (0.11.8)\n",
      "Requirement already satisfied: texttable>=1.6.2 in /opt/anaconda3/lib/python3.8/site-packages (from igraph==0.11.8->python-igraph) (1.7.0)\n"
     ]
    }
   ],
   "source": [
    "#This model is based on the paper of Liu et al.\n",
    "\n",
    "\n",
    "import pandas as pd\n",
    "import requests\n",
    "import os\n",
    "import numpy as np\n",
    "!pip install python-igraph\n",
    "import networkx as nx\n",
    "from sklearn.model_selection import train_test_split, RandomizedSearchCV, StratifiedKFold, cross_val_score\n",
    "from sklearn.metrics import accuracy_score, precision_score, recall_score, f1_score, roc_auc_score, confusion_matrix, roc_curve, precision_recall_curve, average_precision_score, make_scorer\n",
    "from xgboost import XGBClassifier\n",
    "import matplotlib.pyplot as plt\n",
    "import seaborn as sns\n",
    "import igraph as ig\n",
    "import sys\n",
    "from sklearn import preprocessing\n",
    "from sklearn.preprocessing import LabelEncoder, StandardScaler\n",
    "from pu_learning import spies\n",
    "from sklearn.base import clone\n",
    "import time\n",
    "import optuna\n",
    "\n",
    "\n"
   ]
  },
  {
   "cell_type": "code",
   "execution_count": 2,
   "id": "78b02e5c",
   "metadata": {},
   "outputs": [],
   "source": [
    "data = pd.read_csv(\"creditcard.csv\") \n"
   ]
  },
  {
   "cell_type": "code",
   "execution_count": 3,
   "id": "6a266c82",
   "metadata": {},
   "outputs": [],
   "source": [
    "X = data.drop(columns=[\"Class\"])\n",
    "y = data[\"Class\"]\n",
    "\n",
    "\n",
    "#Train/test split\n",
    "X_train_full, X_test, y_train_full, y_test = train_test_split(\n",
    "    X, y, test_size=0.3, stratify=y, random_state=42\n",
    ")\n",
    "\n",
    "# Train/validation split withing the trainingset\n",
    "X_train, X_val, y_train_true, y_val_true = train_test_split(\n",
    "    X_train_full, y_train_full, test_size=0.2, stratify=y_train_full, random_state=42\n",
    ")\n",
    "\n"
   ]
  },
  {
   "cell_type": "code",
   "execution_count": 4,
   "id": "7ffd2162",
   "metadata": {},
   "outputs": [
    {
     "name": "stdout",
     "output_type": "stream",
     "text": [
      "            Time        V1        V2        V3        V4        V5        V6  \\\n",
      "186882  127294.0 -2.537331  1.890864 -0.840555 -1.102759 -2.105725  0.367811   \n",
      "165754  117632.0 -0.250839  1.104108  0.206089  0.417324  1.204079 -0.350694   \n",
      "235285  148330.0  0.568980 -2.520416 -1.114138  1.670652 -1.128945  0.398822   \n",
      "101271   67778.0  1.328892  0.226908 -0.308968  0.381772  0.238490 -0.282946   \n",
      "5832      6308.0  1.124863 -0.165691  1.337053  1.030033 -0.891116  0.202926   \n",
      "...          ...       ...       ...       ...       ...       ...       ...   \n",
      "64725    51279.0 -1.808185  1.328808 -0.991449 -2.473986  2.185095  3.496806   \n",
      "16688    28048.0 -0.442905  0.716727  1.256775  0.860048  1.210872  1.066390   \n",
      "183868  125990.0  2.092418 -0.931315 -1.553089 -1.131369 -0.197801 -0.373117   \n",
      "45011    42168.0  1.293234  0.097565 -0.209304  0.329036  0.034958 -0.145507   \n",
      "150527   93609.0  2.214016 -0.584030 -1.238673 -0.702993 -0.184492 -0.646248   \n",
      "\n",
      "              V7        V8        V9  ...       V20       V21       V22  \\\n",
      "186882 -2.737844 -3.543314 -0.483147  ... -1.959611  4.328165 -2.167329   \n",
      "165754  1.369769 -0.133535 -0.957100  ... -0.128120  0.133048  0.499501   \n",
      "235285  0.190403  0.161493  0.840595  ...  1.039287  0.318037 -0.760732   \n",
      "101271  0.029460 -0.079962  0.227173  ... -0.050933 -0.379270 -1.148959   \n",
      "5832   -0.825094  0.163280  2.301808  ... -0.196966 -0.216512 -0.195607   \n",
      "...          ...       ...       ...  ...       ...       ...       ...   \n",
      "64725  -1.030373 -1.860286  0.182992  ...  0.745500 -1.441887 -0.020080   \n",
      "16688   0.888914 -0.176599 -0.172991  ...  0.310200 -0.154031  0.271637   \n",
      "183868 -0.390388 -0.119017 -0.702381  ...  0.120353 -0.008183 -0.274004   \n",
      "45011  -0.203271  0.153076  0.217831  ... -0.186409 -0.340111 -1.128741   \n",
      "150527 -0.425560 -0.352428  0.869265  ... -0.033153 -0.182835 -0.224863   \n",
      "\n",
      "             V23       V24       V25       V26       V27       V28  Amount  \n",
      "186882  1.022567 -0.241143 -1.094885 -0.475427 -0.177157 -0.082691   37.40  \n",
      "165754 -0.392572 -0.393364  0.233354 -0.490717  0.143897  0.136810    9.27  \n",
      "235285 -0.181332  0.595866 -0.760920 -1.048927 -0.096970  0.088686  700.00  \n",
      "101271 -0.047403 -1.074464  0.375683  0.182045 -0.031732  0.017501   14.99  \n",
      "5832    0.072785  0.045625  0.135192  0.308617  0.001142  0.017673   17.25  \n",
      "...          ...       ...       ...       ...       ...       ...     ...  \n",
      "64725   0.256883  1.014602 -0.108679  0.672870 -0.701644 -0.338981    0.92  \n",
      "16688  -0.262547 -1.125678  0.019374 -0.233577 -0.013664 -0.274549   13.74  \n",
      "183868  0.214650  0.257477 -0.193262 -0.458271 -0.056360 -0.053928   74.00  \n",
      "45011   0.000733 -0.956668  0.259784  0.158010 -0.044116  0.003539    1.98  \n",
      "150527  0.257899  0.558856 -0.060775 -0.391478 -0.057635 -0.059988   15.90  \n",
      "\n",
      "[85443 rows x 30 columns]\n"
     ]
    }
   ],
   "source": [
    "print(X_test)"
   ]
  },
  {
   "cell_type": "code",
   "execution_count": 5,
   "id": "2267d883",
   "metadata": {},
   "outputs": [],
   "source": [
    "def maak_pu_setting_van_echte_labels(y_true, label_ratio, random_state=42):\n",
    "   \n",
    "    np.random.seed(random_state)\n",
    "\n",
    "    # Take only real positives\n",
    "    positieve_indexen = np.where(y_true == 1)[0]\n",
    "    n_gelabeld = int(label_ratio * len(positieve_indexen))\n",
    "    gelabelde_indexen = np.random.choice(positieve_indexen, size=n_gelabeld, replace=False)\n",
    "\n",
    "    y_pu = np.zeros_like(y_true)\n",
    "    y_pu[gelabelde_indexen] = 1\n",
    "\n",
    "    return y_pu, y_true, gelabelde_indexen\n",
    "\n",
    "\n",
    "y_train_pu, y_train_true, gelabelde_indexen = maak_pu_setting_van_echte_labels(y_train_true, label_ratio=0.2)\n"
   ]
  },
  {
   "cell_type": "code",
   "execution_count": 6,
   "id": "7a6b7f8c",
   "metadata": {},
   "outputs": [
    {
     "name": "stdout",
     "output_type": "stream",
     "text": [
      "Requirement already satisfied: optuna in /opt/anaconda3/lib/python3.8/site-packages (4.2.1)\n",
      "Requirement already satisfied: alembic>=1.5.0 in /opt/anaconda3/lib/python3.8/site-packages (from optuna) (1.14.1)\n",
      "Requirement already satisfied: tqdm in /opt/anaconda3/lib/python3.8/site-packages (from optuna) (4.67.1)\n",
      "Requirement already satisfied: sqlalchemy>=1.4.2 in /opt/anaconda3/lib/python3.8/site-packages (from optuna) (2.0.39)\n",
      "Requirement already satisfied: colorlog in /opt/anaconda3/lib/python3.8/site-packages (from optuna) (6.9.0)\n",
      "Requirement already satisfied: numpy in /opt/anaconda3/lib/python3.8/site-packages (from optuna) (1.23.5)\n",
      "Requirement already satisfied: PyYAML in /opt/anaconda3/lib/python3.8/site-packages (from optuna) (6.0.2)\n",
      "Requirement already satisfied: packaging>=20.0 in /opt/anaconda3/lib/python3.8/site-packages (from optuna) (24.2)\n",
      "Requirement already satisfied: importlib-resources in /opt/anaconda3/lib/python3.8/site-packages (from alembic>=1.5.0->optuna) (6.4.5)\n",
      "Requirement already satisfied: importlib-metadata in /opt/anaconda3/lib/python3.8/site-packages (from alembic>=1.5.0->optuna) (8.5.0)\n",
      "Requirement already satisfied: Mako in /opt/anaconda3/lib/python3.8/site-packages (from alembic>=1.5.0->optuna) (1.3.9)\n",
      "Requirement already satisfied: typing-extensions>=4 in /opt/anaconda3/lib/python3.8/site-packages (from alembic>=1.5.0->optuna) (4.12.2)\n",
      "Requirement already satisfied: greenlet!=0.4.17 in /opt/anaconda3/lib/python3.8/site-packages (from sqlalchemy>=1.4.2->optuna) (3.1.1)\n",
      "Requirement already satisfied: zipp>=3.20 in /opt/anaconda3/lib/python3.8/site-packages (from importlib-metadata->alembic>=1.5.0->optuna) (3.20.2)\n",
      "Requirement already satisfied: MarkupSafe>=0.9.2 in /opt/anaconda3/lib/python3.8/site-packages (from Mako->alembic>=1.5.0->optuna) (2.0.1)\n"
     ]
    }
   ],
   "source": [
    "!pip install optuna"
   ]
  },
  {
   "cell_type": "code",
   "execution_count": 7,
   "id": "df1d0e7f",
   "metadata": {},
   "outputs": [
    {
     "name": "stderr",
     "output_type": "stream",
     "text": [
      "[I 2025-05-13 21:11:32,929] A new study created in memory with name: no-name-65924623-207e-47f0-a684-114dfd9d67cb\n",
      "[I 2025-05-13 21:11:37,745] Trial 0 finished with value: 0.2716049382716049 and parameters: {'n_estimators': 439, 'max_depth': 3, 'learning_rate': 0.04426202834347583, 'subsample': 0.7744778556049362, 'colsample_bytree': 0.9648617972140273, 'gamma': 0.894353464961245, 'reg_alpha': 0.10891067322944536, 'reg_lambda': 1.0603765779170626, 'scale_pos_weight': 17.740956751647687}. Best is trial 0 with value: 0.2716049382716049.\n",
      "[I 2025-05-13 21:11:41,074] Trial 1 finished with value: 0.372093023255814 and parameters: {'n_estimators': 159, 'max_depth': 7, 'learning_rate': 0.2344778608060035, 'subsample': 0.63831816646796, 'colsample_bytree': 0.8428411299685217, 'gamma': 0.32892868633301486, 'reg_alpha': 8.70986305190525, 'reg_lambda': 7.894829669847353, 'scale_pos_weight': 15.882782777503522}. Best is trial 1 with value: 0.372093023255814.\n",
      "[I 2025-05-13 21:11:44,339] Trial 2 finished with value: 0.3170731707317073 and parameters: {'n_estimators': 336, 'max_depth': 9, 'learning_rate': 0.06522443064192934, 'subsample': 0.9490453619205134, 'colsample_bytree': 0.6446682336736912, 'gamma': 1.9442969833865587, 'reg_alpha': 2.863993401967977, 'reg_lambda': 1.0813501103751488, 'scale_pos_weight': 6.9823890236315105}. Best is trial 1 with value: 0.372093023255814.\n",
      "[I 2025-05-13 21:11:46,299] Trial 3 finished with value: 0.27499999999999997 and parameters: {'n_estimators': 235, 'max_depth': 10, 'learning_rate': 0.1835005713744476, 'subsample': 0.9706694276243933, 'colsample_bytree': 0.8107272042832605, 'gamma': 0.923549174623825, 'reg_alpha': 1.4006024781724224, 'reg_lambda': 6.442755874917296, 'scale_pos_weight': 5.804722243571995}. Best is trial 1 with value: 0.372093023255814.\n",
      "[I 2025-05-13 21:11:52,589] Trial 4 finished with value: 0.3571428571428571 and parameters: {'n_estimators': 535, 'max_depth': 6, 'learning_rate': 0.02450260350731383, 'subsample': 0.6580222016121196, 'colsample_bytree': 0.9870260634873208, 'gamma': 0.964224910861623, 'reg_alpha': 6.215368113338824, 'reg_lambda': 8.64099289707714, 'scale_pos_weight': 9.78204904068273}. Best is trial 1 with value: 0.372093023255814.\n",
      "[I 2025-05-13 21:11:55,386] Trial 5 finished with value: 0.23076923076923078 and parameters: {'n_estimators': 367, 'max_depth': 6, 'learning_rate': 0.10279972088636632, 'subsample': 0.7858368088928417, 'colsample_bytree': 0.9308847857794194, 'gamma': 2.7971597328933133, 'reg_alpha': 0.030394054857667552, 'reg_lambda': 4.820727261728396, 'scale_pos_weight': 2.0639007710079085}. Best is trial 1 with value: 0.372093023255814.\n",
      "[I 2025-05-13 21:11:59,697] Trial 6 finished with value: 0.33333333333333337 and parameters: {'n_estimators': 470, 'max_depth': 9, 'learning_rate': 0.053041888944351814, 'subsample': 0.7355707995876086, 'colsample_bytree': 0.7421351658706995, 'gamma': 0.8346180972318307, 'reg_alpha': 5.590916217145194, 'reg_lambda': 1.8463686086404174, 'scale_pos_weight': 13.004723330498825}. Best is trial 1 with value: 0.372093023255814.\n",
      "[I 2025-05-13 21:12:02,747] Trial 7 finished with value: 0.39080459770114945 and parameters: {'n_estimators': 442, 'max_depth': 9, 'learning_rate': 0.1262200989986655, 'subsample': 0.6155172423140373, 'colsample_bytree': 0.7464616933851559, 'gamma': 3.265071538783475, 'reg_alpha': 7.083913624430931, 'reg_lambda': 0.7199297691694884, 'scale_pos_weight': 9.587224204223961}. Best is trial 7 with value: 0.39080459770114945.\n",
      "[I 2025-05-13 21:12:05,997] Trial 8 finished with value: 0.2926829268292683 and parameters: {'n_estimators': 275, 'max_depth': 5, 'learning_rate': 0.03667236538837666, 'subsample': 0.6663822481376646, 'colsample_bytree': 0.7605408118377887, 'gamma': 0.7051318300837084, 'reg_alpha': 1.9999546302043958, 'reg_lambda': 1.655096893354332, 'scale_pos_weight': 7.899905963336918}. Best is trial 7 with value: 0.39080459770114945.\n",
      "[I 2025-05-13 21:12:10,673] Trial 9 finished with value: 0.5154639175257733 and parameters: {'n_estimators': 444, 'max_depth': 8, 'learning_rate': 0.014972493102774986, 'subsample': 0.6506751117415146, 'colsample_bytree': 0.7007836136554488, 'gamma': 4.244360272483964, 'reg_alpha': 8.311035733117922, 'reg_lambda': 0.7211014449311459, 'scale_pos_weight': 10.703823630219489}. Best is trial 9 with value: 0.5154639175257733.\n",
      "[I 2025-05-13 21:12:15,996] Trial 10 finished with value: 0.6428571428571429 and parameters: {'n_estimators': 539, 'max_depth': 7, 'learning_rate': 0.010536426157357802, 'subsample': 0.8889676470244715, 'colsample_bytree': 0.6094945440497502, 'gamma': 4.913502665255586, 'reg_alpha': 9.386198333178669, 'reg_lambda': 3.9376428893986066, 'scale_pos_weight': 13.889167749264335}. Best is trial 10 with value: 0.6428571428571429.\n",
      "[I 2025-05-13 21:12:22,334] Trial 11 finished with value: 0.6306306306306306 and parameters: {'n_estimators': 599, 'max_depth': 7, 'learning_rate': 0.010870032965728133, 'subsample': 0.8548313449707059, 'colsample_bytree': 0.6231146750428356, 'gamma': 4.822416624548406, 'reg_alpha': 9.597418942954626, 'reg_lambda': 3.86587271515598, 'scale_pos_weight': 13.813990381247365}. Best is trial 10 with value: 0.6428571428571429.\n",
      "[I 2025-05-13 21:12:27,783] Trial 12 finished with value: 0.7333333333333333 and parameters: {'n_estimators': 573, 'max_depth': 4, 'learning_rate': 0.010565376773484106, 'subsample': 0.8756264193077921, 'colsample_bytree': 0.6040532485896176, 'gamma': 4.9803092827592685, 'reg_alpha': 9.981126292162264, 'reg_lambda': 4.083959106643296, 'scale_pos_weight': 14.564448981013188}. Best is trial 12 with value: 0.7333333333333333.\n",
      "[I 2025-05-13 21:12:33,128] Trial 13 finished with value: 0.689655172413793 and parameters: {'n_estimators': 594, 'max_depth': 4, 'learning_rate': 0.018564648579937063, 'subsample': 0.8727550693953705, 'colsample_bytree': 0.6148006343620868, 'gamma': 3.902661044788437, 'reg_alpha': 9.972697869664563, 'reg_lambda': 3.1032550610737397, 'scale_pos_weight': 19.854962383589438}. Best is trial 12 with value: 0.7333333333333333.\n",
      "[I 2025-05-13 21:12:38,662] Trial 14 finished with value: 0.6346153846153846 and parameters: {'n_estimators': 595, 'max_depth': 3, 'learning_rate': 0.0208353567138956, 'subsample': 0.879096662618102, 'colsample_bytree': 0.663370140495071, 'gamma': 3.7536209433514847, 'reg_alpha': 3.836017735473158, 'reg_lambda': 2.696975121993626, 'scale_pos_weight': 19.524952396824933}. Best is trial 12 with value: 0.7333333333333333.\n",
      "[I 2025-05-13 21:12:43,738] Trial 15 finished with value: 0.6666666666666667 and parameters: {'n_estimators': 513, 'max_depth': 4, 'learning_rate': 0.02345484768195918, 'subsample': 0.8388222939692265, 'colsample_bytree': 0.6927672546254169, 'gamma': 4.024247532048135, 'reg_alpha': 7.307363559252991, 'reg_lambda': 5.548616689879022, 'scale_pos_weight': 19.36030884283305}. Best is trial 12 with value: 0.7333333333333333.\n",
      "[I 2025-05-13 21:12:47,731] Trial 16 finished with value: 0.7118644067796609 and parameters: {'n_estimators': 383, 'max_depth': 4, 'learning_rate': 0.015988905993768697, 'subsample': 0.9231090141893439, 'colsample_bytree': 0.8816933178139236, 'gamma': 2.154974493965969, 'reg_alpha': 9.946827272725061, 'reg_lambda': 3.2193304387025248, 'scale_pos_weight': 16.490794360789415}. Best is trial 12 with value: 0.7333333333333333.\n",
      "[I 2025-05-13 21:12:49,415] Trial 17 finished with value: 0.6956521739130435 and parameters: {'n_estimators': 108, 'max_depth': 5, 'learning_rate': 0.03196672719402082, 'subsample': 0.9308005308456381, 'colsample_bytree': 0.8879823887621031, 'gamma': 2.104721673744184, 'reg_alpha': 7.9519641348935926, 'reg_lambda': 6.57029110161629, 'scale_pos_weight': 16.113588273311127}. Best is trial 12 with value: 0.7333333333333333.\n",
      "[I 2025-05-13 21:12:53,094] Trial 18 finished with value: 0.7333333333333333 and parameters: {'n_estimators': 374, 'max_depth': 4, 'learning_rate': 0.013681212817215058, 'subsample': 0.918141535682506, 'colsample_bytree': 0.8666100585435336, 'gamma': 1.5680465936858161, 'reg_alpha': 4.857723601441933, 'reg_lambda': 9.852774352206188, 'scale_pos_weight': 15.99320087589981}. Best is trial 12 with value: 0.7333333333333333.\n",
      "[I 2025-05-13 21:12:56,031] Trial 19 finished with value: 0.58 and parameters: {'n_estimators': 274, 'max_depth': 5, 'learning_rate': 0.012829776411848048, 'subsample': 0.9887203039048683, 'colsample_bytree': 0.8150404033790634, 'gamma': 1.532410191983335, 'reg_alpha': 4.4589817770928155, 'reg_lambda': 9.574150797781439, 'scale_pos_weight': 11.370669705434214}. Best is trial 12 with value: 0.7333333333333333.\n"
     ]
    },
    {
     "name": "stderr",
     "output_type": "stream",
     "text": [
      "[I 2025-05-13 21:12:58,195] Trial 20 finished with value: 0.5510204081632654 and parameters: {'n_estimators': 204, 'max_depth': 3, 'learning_rate': 0.08931235760938568, 'subsample': 0.8169482917305003, 'colsample_bytree': 0.87382422581479, 'gamma': 2.9457490262233996, 'reg_alpha': 6.244357581780246, 'reg_lambda': 7.367138296462917, 'scale_pos_weight': 12.599466523455023}. Best is trial 12 with value: 0.7333333333333333.\n",
      "[I 2025-05-13 21:13:02,201] Trial 21 finished with value: 0.7192982456140351 and parameters: {'n_estimators': 374, 'max_depth': 4, 'learning_rate': 0.01608122613808523, 'subsample': 0.9221788923230183, 'colsample_bytree': 0.9136764601594917, 'gamma': 2.207623384733501, 'reg_alpha': 4.429220342227637, 'reg_lambda': 4.806851143227526, 'scale_pos_weight': 15.92599082275586}. Best is trial 12 with value: 0.7333333333333333.\n",
      "[I 2025-05-13 21:13:05,775] Trial 22 finished with value: 0.5052631578947369 and parameters: {'n_estimators': 310, 'max_depth': 4, 'learning_rate': 0.02853326621542078, 'subsample': 0.9062408293447609, 'colsample_bytree': 0.9249888999796765, 'gamma': 1.3841659517344418, 'reg_alpha': 3.6833269598929874, 'reg_lambda': 4.7945845867573755, 'scale_pos_weight': 14.997822221907791}. Best is trial 12 with value: 0.7333333333333333.\n",
      "[I 2025-05-13 21:13:10,183] Trial 23 finished with value: 0.6666666666666667 and parameters: {'n_estimators': 403, 'max_depth': 5, 'learning_rate': 0.013578574366803101, 'subsample': 0.9549571396640056, 'colsample_bytree': 0.9138985242009825, 'gamma': 2.5233775082656607, 'reg_alpha': 4.8953052745531815, 'reg_lambda': 5.5711528622927595, 'scale_pos_weight': 17.720204249176113}. Best is trial 12 with value: 0.7333333333333333.\n",
      "[I 2025-05-13 21:13:14,679] Trial 24 finished with value: 0.7936507936507936 and parameters: {'n_estimators': 494, 'max_depth': 3, 'learning_rate': 0.010504447308353851, 'subsample': 0.8338640173166506, 'colsample_bytree': 0.8434149621082773, 'gamma': 1.5580625536799122, 'reg_alpha': 3.177731215243673, 'reg_lambda': 9.977937415738426, 'scale_pos_weight': 17.619151256521704}. Best is trial 24 with value: 0.7936507936507936.\n",
      "[I 2025-05-13 21:13:20,940] Trial 25 finished with value: 0.7741935483870968 and parameters: {'n_estimators': 496, 'max_depth': 3, 'learning_rate': 0.010395101026369707, 'subsample': 0.7337308856944263, 'colsample_bytree': 0.8351681277329832, 'gamma': 1.5717647715683531, 'reg_alpha': 2.764982416344705, 'reg_lambda': 9.663073550600737, 'scale_pos_weight': 18.2912692152519}. Best is trial 24 with value: 0.7936507936507936.\n",
      "[I 2025-05-13 21:13:25,600] Trial 26 finished with value: 0.7741935483870968 and parameters: {'n_estimators': 489, 'max_depth': 3, 'learning_rate': 0.010028566607842716, 'subsample': 0.7323802152835344, 'colsample_bytree': 0.7762340450047671, 'gamma': 0.2944152602502492, 'reg_alpha': 2.3893600798846593, 'reg_lambda': 8.939918784812185, 'scale_pos_weight': 17.75874812976359}. Best is trial 24 with value: 0.7936507936507936.\n",
      "[I 2025-05-13 21:13:30,422] Trial 27 finished with value: 0.689655172413793 and parameters: {'n_estimators': 482, 'max_depth': 3, 'learning_rate': 0.0192253436198676, 'subsample': 0.7091455238262433, 'colsample_bytree': 0.7832982077167578, 'gamma': 0.07668980359765376, 'reg_alpha': 2.315583916269525, 'reg_lambda': 8.967105129596854, 'scale_pos_weight': 18.296498305893007}. Best is trial 24 with value: 0.7936507936507936.\n",
      "[I 2025-05-13 21:13:35,012] Trial 28 finished with value: 0.7741935483870968 and parameters: {'n_estimators': 499, 'max_depth': 3, 'learning_rate': 0.01030729999808041, 'subsample': 0.7558712156165056, 'colsample_bytree': 0.8376488525332827, 'gamma': 0.3611767674075861, 'reg_alpha': 1.0259851846865393, 'reg_lambda': 8.440765996015038, 'scale_pos_weight': 18.248232904158982}. Best is trial 24 with value: 0.7936507936507936.\n",
      "[I 2025-05-13 21:13:39,453] Trial 29 finished with value: 0.49462365591397844 and parameters: {'n_estimators': 413, 'max_depth': 3, 'learning_rate': 0.04599137967190882, 'subsample': 0.6939236152629633, 'colsample_bytree': 0.7779981759025059, 'gamma': 1.2944551038326224, 'reg_alpha': 3.1733763423421046, 'reg_lambda': 9.062669351578203, 'scale_pos_weight': 17.196669076833537}. Best is trial 24 with value: 0.7936507936507936.\n"
     ]
    },
    {
     "name": "stdout",
     "output_type": "stream",
     "text": [
      "Beste hyperparameters: {'n_estimators': 494, 'max_depth': 3, 'learning_rate': 0.010504447308353851, 'subsample': 0.8338640173166506, 'colsample_bytree': 0.8434149621082773, 'gamma': 1.5580625536799122, 'reg_alpha': 3.177731215243673, 'reg_lambda': 9.977937415738426, 'scale_pos_weight': 17.619151256521704}\n"
     ]
    }
   ],
   "source": [
    "def objective(trial):\n",
    "    params = {\n",
    "        \"objective\": \"binary:logistic\",\n",
    "        \"eval_metric\": \"logloss\",\n",
    "        \"use_label_encoder\": False,\n",
    "        \"tree_method\": \"hist\",\n",
    "        \"n_estimators\": trial.suggest_int(\"n_estimators\", 50, 600),\n",
    "        \"max_depth\": trial.suggest_int(\"max_depth\", 3, 30),\n",
    "        \"learning_rate\": trial.suggest_float(\"learning_rate\", 0.0004, 0.3, log=True),\n",
    "        \"subsample\": trial.suggest_float(\"subsample\", 0.6, 1.0),\n",
    "        \"colsample_bytree\": trial.suggest_float(\"colsample_bytree\", 0.6, 1.0),\n",
    "        \"gamma\": trial.suggest_float(\"gamma\", 0.0, 5.0),\n",
    "        \"reg_alpha\": trial.suggest_float(\"reg_alpha\", 0.0, 10.0),\n",
    "        \"reg_lambda\": trial.suggest_float(\"reg_lambda\", 0.0, 10.0),\n",
    "        \"scale_pos_weight\": trial.suggest_float(\"scale_pos_weight\", 1.0, 20.0)\n",
    "    }\n",
    "\n",
    "    model = XGBClassifier(**params)\n",
    "    \n",
    "    # Train on PU-labels\n",
    "    model.fit(X_train, y_train_pu)\n",
    "    \n",
    "    # Predict and evaluate on true labels\n",
    "    y_val_pred = model.predict(X_val)\n",
    "    score = f1_score(y_val_true, y_val_pred)\n",
    "\n",
    "    return score\n",
    "\n",
    "\n",
    "study = optuna.create_study(direction=\"maximize\")\n",
    "study.optimize(objective, n_trials=30, timeout=1200)\n",
    "\n",
    "print(\"Beste hyperparameters:\", study.best_params)\n",
    "\n",
    "# use of the best model\n",
    "best_params = study.best_params\n",
    "best_params.update({\n",
    "    \"objective\": \"binary:logistic\",\n",
    "    \"eval_metric\": \"logloss\",\n",
    "    \"use_label_encoder\": False,\n",
    "    \"tree_method\": \"hist\"\n",
    "})\n",
    "xgb_best = XGBClassifier(**best_params)"
   ]
  },
  {
   "cell_type": "code",
   "execution_count": 112,
   "id": "eab34c9b",
   "metadata": {},
   "outputs": [],
   "source": [
    "# best parameters last run (13/05): Beste hyperparameters: {'n_estimators': 494, 'max_depth': 3, 'learning_rate': 0.010504447308353851, 'subsample': 0.8338640173166506, 'colsample_bytree': 0.8434149621082773, 'gamma': 1.5580625536799122, 'reg_alpha': 3.177731215243673, 'reg_lambda': 9.977937415738426, 'scale_pos_weight': 17.619151256521704}\n",
    "#DEZE ZIJN HIERONDER NOG NIET INGEGEVEN\n",
    "\n",
    "\n",
    "#xgb_best = XGBClassifier(\n",
    "#    n_estimators=519,\n",
    "#    max_depth=7,\n",
    "#    learning_rate=0.1269773573167832,\n",
    "#    subsample=0.7126546507693278,\n",
    "#    colsample_bytree=0.9221269927327422,\n",
    "#    gamma=0.16427360761648913,\n",
    "#    reg_alpha=0.10626085090715165,\n",
    "#    reg_lambda=3.330353762196551,\n",
    "#    scale_pos_weight=18.74094878654416,\n",
    "#    tree_method='hist',\n",
    "#    use_label_encoder=False,\n",
    "#    eval_metric='logloss',\n",
    "#    random_state=42\n",
    "#)\n",
    "\n"
   ]
  },
  {
   "cell_type": "code",
   "execution_count": 11,
   "id": "af670515",
   "metadata": {},
   "outputs": [],
   "source": [
    "# S-EM IMPLEMENTATION ---\n",
    "def spy_em(X, y, base_model, spy_ratio=0.2, spy_tolerance=0.05, max_iter=20, tol=1e-4, random_state=42):\n",
    "    np.random.seed(random_state)\n",
    "    positives = X[y == 1]   #SPIES PHASE: we assign the instances where y == 1 the label positives, and the rest are treated as unlabeled\n",
    "    unlabeled = X[y == 0]\n",
    "\n",
    "    spy_mask = np.random.rand(len(positives)) < spy_ratio   # now we select spies from the positives\n",
    "    spies = positives[spy_mask]   #These are the spies\n",
    "    non_spy_positives = positives[~spy_mask]   # These are the positives that are not the spies \n",
    "\n",
    "    MS = np.vstack([unlabeled, spies]) # this is the Mixed unlabeled set incl. spies\n",
    "    MS_labels = np.concatenate([np.zeros(len(unlabeled)), np.ones(len(spies))])   # Spies get a temporary label\n",
    "    MSP = np.vstack([MS, non_spy_positives])     ## add to non-Spy positives to the mixed unlabeled set\n",
    "    MSP_y = np.concatenate([MS_labels, np.ones(len(non_spy_positives))])\n",
    "\n",
    "    model = clone(base_model)\n",
    "    model.fit(MSP, MSP_y) #We train an initial model on the combined dataset MSP (which includes the spies, non-spy positives, and unlabeled instances)\n",
    "    probs = model.predict_proba(MS)[:, 1] #we then predict for MS (spies + unlabeled) the probability that each instance is positive\n",
    "    spy_labels = MS_labels == 1\n",
    "\n",
    "    threshold = 0.001   #You set a threshold such that at most a small percentage (e.g., 5%) of the spies fall below that threshold.\n",
    "\n",
    "\n",
    "    while (probs[spy_labels] <= threshold).mean() <= spy_tolerance and threshold < 1.0:\n",
    "        threshold += 0.001       #What remains (the truly unlabeled instances with low probability) is then considered as reliable negative examples.\n",
    "\n",
    "    reliable_N = MS[(MS_labels == 0) & (probs <= threshold)]     #All instances in the original unlabeled set whose predicted probability of being positive falls below the threshold are included as reliable negative examples\n",
    "    current_model = clone(base_model)\n",
    "    prev_loss = None\n",
    "\n",
    "    for iteration in range(max_iter):  #EM phase: You train a new model on the combination of the reliable negatives (label 0) and positives (label 1)\n",
    "        start_time = time.time()\n",
    "        NP = np.vstack([reliable_N, positives])\n",
    "        labels = np.concatenate([np.zeros(len(reliable_N)), np.ones(len(positives))])\n",
    "\n",
    "        current_model.fit(\n",
    "            NP, labels,\n",
    "            eval_set=[(NP, labels)],\n",
    "            early_stopping_rounds=10,\n",
    "            verbose=False\n",
    "        )\n",
    "\n",
    "        probs = current_model.predict_proba(MS)[:, 1]    #We now evaluate again on the mixed set (MS), which includes spies and unlabeled instances, to select new reliable negatives.\n",
    "        new_reliable_N = MS[(MS_labels == 0) & (probs <= threshold)]   #we have new reliable negatives\n",
    "\n",
    "        loss = np.mean((reliable_N - new_reliable_N)**2) if len(reliable_N) == len(new_reliable_N) else np.inf  # Convergentiecriterium\n",
    "        print(f\"Iteratie {iteration + 1} duurde {time.time() - start_time:.2f}s\")\n",
    "        if prev_loss is not None and abs(prev_loss - loss) < tol:\n",
    "            print(f\"Geconvergeerd na {iteration+1} iteraties.\")\n",
    "            break\n",
    "        reliable_N = new_reliable_N\n",
    "        prev_loss = loss\n",
    "\n",
    "    return current_model, threshold, reliable_N"
   ]
  },
  {
   "cell_type": "code",
   "execution_count": 12,
   "id": "177fed61",
   "metadata": {},
   "outputs": [
    {
     "name": "stderr",
     "output_type": "stream",
     "text": [
      "/opt/anaconda3/lib/python3.8/site-packages/xgboost/sklearn.py:889: UserWarning: `early_stopping_rounds` in `fit` method is deprecated for better compatibility with scikit-learn, use `early_stopping_rounds` in constructor or`set_params` instead.\n",
      "  warnings.warn(\n"
     ]
    },
    {
     "name": "stdout",
     "output_type": "stream",
     "text": [
      "Iteratie 1 duurde 8.09s\n",
      "Iteratie 2 duurde 7.29s\n",
      "Iteratie 3 duurde 7.18s\n",
      "Iteratie 4 duurde 7.23s\n",
      "Iteratie 5 duurde 7.21s\n",
      "Iteratie 6 duurde 7.03s\n",
      "Iteratie 7 duurde 6.98s\n",
      "Iteratie 8 duurde 7.53s\n",
      "Geconvergeerd na 8 iteraties.\n",
      "Model evaluatie (S-EM): met threshold 0.7751228\n",
      "Accuracy: 0.9994\n",
      "Precision: 0.8780\n",
      "Recall: 0.7297\n",
      "F1-score: 0.7970\n",
      "ROC AUC: 0.9505\n",
      "PR AUC: 0.6721\n"
     ]
    }
   ],
   "source": [
    "\n",
    "# PU-training \n",
    "final_model, best_thresh, reliable_negatives = spy_em(X_train, y_train_pu, xgb_best) \n",
    "# predictions\n",
    "y_prob = final_model.predict_proba(X_test)[:, 1]\n",
    "prec, rec, thresholds = precision_recall_curve(y_test, y_prob)\n",
    "f1_scores = 2 * (prec * rec) / (prec + rec + 1e-8)\n",
    "best_idx = np.argmax(f1_scores)\n",
    "best_threshold = thresholds[best_idx]\n",
    "y_pred = (y_prob >=best_threshold).astype(int)\n",
    "\n",
    "# Evaluation\n",
    "accuracy = accuracy_score(y_test, y_pred)\n",
    "precision = precision_score(y_test, y_pred)\n",
    "recall = recall_score(y_test, y_pred)\n",
    "f1 = f1_score(y_test, y_pred)\n",
    "roc_auc = roc_auc_score(y_test, y_prob)\n",
    "pr_auc = average_precision_score(y_test, y_prob)\n",
    "\n",
    "print(\"Model evaluatie (S-EM): met threshold\", best_threshold)\n",
    "print(f\"Accuracy: {accuracy:.4f}\")\n",
    "print(f\"Precision: {precision:.4f}\")\n",
    "print(f\"Recall: {recall:.4f}\")\n",
    "print(f\"F1-score: {f1:.4f}\")\n",
    "print(f\"ROC AUC: {roc_auc:.4f}\")\n",
    "print(f\"PR AUC: {pr_auc:.4f}\")"
   ]
  },
  {
   "cell_type": "code",
   "execution_count": 13,
   "id": "1f85a416",
   "metadata": {},
   "outputs": [
    {
     "data": {
      "image/png": "[encoded data removed]",
      "text/plain": [
       "<Figure size 576x432 with 1 Axes>"
      ]
     },
     "metadata": {
      "needs_background": "light"
     },
     "output_type": "display_data"
    },
    {
     "data": {
      "image/png": "[encoded data removed]",
      "text/plain": [
       "<Figure size 576x432 with 1 Axes>"
      ]
     },
     "metadata": {
      "needs_background": "light"
     },
     "output_type": "display_data"
    },
    {
     "data": {
      "image/png": "[encoded data removed]",
      "text/plain": [
       "<Figure size 432x360 with 2 Axes>"
      ]
     },
     "metadata": {
      "needs_background": "light"
     },
     "output_type": "display_data"
    }
   ],
   "source": [
    "# ROC Curve\n",
    "fpr, tpr, _ = roc_curve(y_test, y_prob)\n",
    "plt.figure(figsize=(8, 6))\n",
    "plt.plot(fpr, tpr, label=f'ROC curve S-EM (AUC = {roc_auc:.2f})')\n",
    "plt.plot([0, 1], [0, 1], 'k--')  \n",
    "plt.xlabel(\"False Positive Rate\")\n",
    "plt.ylabel(\"True Positive Rate\")\n",
    "plt.title(\"ROC Curve\")\n",
    "plt.legend()\n",
    "plt.show()\n",
    "\n",
    "# Precision-Recall Curve \n",
    "precision_vals, recall_vals, _ = precision_recall_curve(y_test, y_prob)\n",
    "plt.figure(figsize=(8, 6))\n",
    "plt.plot(recall_vals, precision_vals, label=f'PR curve (AUC = {pr_auc:.2f})')\n",
    "plt.xlabel(\"Recall\")\n",
    "plt.ylabel(\"Precision\")\n",
    "plt.title(\"Precision-Recall Curve\")\n",
    "plt.legend()\n",
    "plt.show()\n",
    "\n",
    "# Confusion Matrix \n",
    "plt.figure(figsize=(6, 5))\n",
    "sns.heatmap(confusion_matrix(y_test, y_pred), annot=True, fmt='d', cmap='Blues', xticklabels=['Not Suspicious', 'Suspicious'], yticklabels=['Not Suspicious', 'Suspicious'])\n",
    "plt.xlabel('Predicted')\n",
    "plt.ylabel('Actual')\n",
    "plt.title('Confusion Matrix')\n",
    "plt.show()\n"
   ]
  },
  {
   "cell_type": "code",
   "execution_count": 14,
   "id": "2221cfbf",
   "metadata": {},
   "outputs": [],
   "source": [
    "from sklearn.metrics import precision_score, recall_score, f1_score, roc_auc_score, roc_curve, confusion_matrix\n",
    "\n",
    "fpr_pu, tpr_pu, _ = roc_curve(y_test, y_prob)\n",
    "auc_pu = roc_auc_score(y_test, y_prob)\n",
    "\n",
    "np.savez(\"roc_S-EM(FRAUDE).npz\",\n",
    "         fpr=fpr_pu,\n",
    "         tpr=tpr_pu,\n",
    "         auc=auc_pu,\n",
    "         labels=y_test,\n",
    "         scores=y_prob)\n"
   ]
  },
  {
   "cell_type": "code",
   "execution_count": 15,
   "id": "0e4d4efa",
   "metadata": {},
   "outputs": [],
   "source": [
    "np.save(\"preds_S-EM(FRAUDE).npy\", y_pred)"
   ]
  },
  {
   "cell_type": "code",
   "execution_count": null,
   "id": "07adef46",
   "metadata": {},
   "outputs": [],
   "source": []
  },
  {
   "cell_type": "code",
   "execution_count": null,
   "id": "6827b899",
   "metadata": {},
   "outputs": [],
   "source": []
  }
 ],
 "metadata": {
  "kernelspec": {
   "display_name": "Python 3",
   "language": "python",
   "name": "python3"
  },
  "language_info": {
   "codemirror_mode": {
    "name": "ipython",
    "version": 3
   },
   "file_extension": ".py",
   "mimetype": "text/x-python",
   "name": "python",
   "nbconvert_exporter": "python",
   "pygments_lexer": "ipython3",
   "version": "3.8.8"
  }
 },
 "nbformat": 4,
 "nbformat_minor": 5
}
